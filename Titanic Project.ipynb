{
 "cells": [
  {
   "cell_type": "markdown",
   "id": "0294f099",
   "metadata": {},
   "source": [
    "Import librares\n",
    "\n",
    "\n",
    "\n",
    "Get dataset and understand\n",
    "\n",
    "\n",
    "Clean the dataset\n",
    "\n",
    "a. Check for duplicates\n",
    "\n",
    "b.Check for missing values\n",
    "\n",
    "c.Check for invalid dtpes\n",
    "\n",
    "Feature engineering/Data transformation\n",
    "\n",
    "1. Create new columns if needed\n",
    "\n",
    "2. Modfy the data\n",
    "\n",
    "\n",
    "Data analysis\n",
    "\n",
    "Conclusion\n"
   ]
  },
  {
   "cell_type": "markdown",
   "id": "2cad8c8c",
   "metadata": {},
   "source": [
    "# Import librares"
   ]
  },
  {
   "cell_type": "code",
   "execution_count": 70,
   "id": "e77c299f",
   "metadata": {},
   "outputs": [],
   "source": [
    "import pandas as pd\n",
    "import matplotlib.pyplot as plt\n",
    "import seaborn as sns"
   ]
  },
  {
   "cell_type": "markdown",
   "id": "77ebff78",
   "metadata": {},
   "source": [
    "# Get dataset and understand"
   ]
  },
  {
   "cell_type": "code",
   "execution_count": 71,
   "id": "2ddae748",
   "metadata": {},
   "outputs": [
    {
     "data": {
      "text/html": [
       "<div>\n",
       "<style scoped>\n",
       "    .dataframe tbody tr th:only-of-type {\n",
       "        vertical-align: middle;\n",
       "    }\n",
       "\n",
       "    .dataframe tbody tr th {\n",
       "        vertical-align: top;\n",
       "    }\n",
       "\n",
       "    .dataframe thead th {\n",
       "        text-align: right;\n",
       "    }\n",
       "</style>\n",
       "<table border=\"1\" class=\"dataframe\">\n",
       "  <thead>\n",
       "    <tr style=\"text-align: right;\">\n",
       "      <th></th>\n",
       "      <th>pclass</th>\n",
       "      <th>name</th>\n",
       "      <th>sex</th>\n",
       "      <th>age</th>\n",
       "      <th>sibsp</th>\n",
       "      <th>parch</th>\n",
       "      <th>ticket</th>\n",
       "      <th>fare</th>\n",
       "      <th>cabin</th>\n",
       "      <th>embarked</th>\n",
       "      <th>survived</th>\n",
       "    </tr>\n",
       "  </thead>\n",
       "  <tbody>\n",
       "    <tr>\n",
       "      <th>0</th>\n",
       "      <td>1</td>\n",
       "      <td>Allen, Miss. Elisabeth Walton</td>\n",
       "      <td>female</td>\n",
       "      <td>29.0000</td>\n",
       "      <td>0</td>\n",
       "      <td>0</td>\n",
       "      <td>24160</td>\n",
       "      <td>211.3375</td>\n",
       "      <td>B5</td>\n",
       "      <td>S</td>\n",
       "      <td>1</td>\n",
       "    </tr>\n",
       "    <tr>\n",
       "      <th>1</th>\n",
       "      <td>1</td>\n",
       "      <td>Allison, Master. Hudson Trevor</td>\n",
       "      <td>male</td>\n",
       "      <td>0.9167</td>\n",
       "      <td>1</td>\n",
       "      <td>2</td>\n",
       "      <td>113781</td>\n",
       "      <td>151.5500</td>\n",
       "      <td>C22 C26</td>\n",
       "      <td>S</td>\n",
       "      <td>1</td>\n",
       "    </tr>\n",
       "    <tr>\n",
       "      <th>2</th>\n",
       "      <td>1</td>\n",
       "      <td>Allison, Miss. Helen Loraine</td>\n",
       "      <td>female</td>\n",
       "      <td>2.0000</td>\n",
       "      <td>1</td>\n",
       "      <td>2</td>\n",
       "      <td>113781</td>\n",
       "      <td>151.5500</td>\n",
       "      <td>C22 C26</td>\n",
       "      <td>S</td>\n",
       "      <td>0</td>\n",
       "    </tr>\n",
       "    <tr>\n",
       "      <th>3</th>\n",
       "      <td>1</td>\n",
       "      <td>Allison, Mr. Hudson Joshua Creighton</td>\n",
       "      <td>male</td>\n",
       "      <td>30.0000</td>\n",
       "      <td>1</td>\n",
       "      <td>2</td>\n",
       "      <td>113781</td>\n",
       "      <td>151.5500</td>\n",
       "      <td>C22 C26</td>\n",
       "      <td>S</td>\n",
       "      <td>0</td>\n",
       "    </tr>\n",
       "    <tr>\n",
       "      <th>4</th>\n",
       "      <td>1</td>\n",
       "      <td>Allison, Mrs. Hudson J C (Bessie Waldo Daniels)</td>\n",
       "      <td>female</td>\n",
       "      <td>25.0000</td>\n",
       "      <td>1</td>\n",
       "      <td>2</td>\n",
       "      <td>113781</td>\n",
       "      <td>151.5500</td>\n",
       "      <td>C22 C26</td>\n",
       "      <td>S</td>\n",
       "      <td>0</td>\n",
       "    </tr>\n",
       "    <tr>\n",
       "      <th>...</th>\n",
       "      <td>...</td>\n",
       "      <td>...</td>\n",
       "      <td>...</td>\n",
       "      <td>...</td>\n",
       "      <td>...</td>\n",
       "      <td>...</td>\n",
       "      <td>...</td>\n",
       "      <td>...</td>\n",
       "      <td>...</td>\n",
       "      <td>...</td>\n",
       "      <td>...</td>\n",
       "    </tr>\n",
       "    <tr>\n",
       "      <th>1304</th>\n",
       "      <td>3</td>\n",
       "      <td>Zabour, Miss. Hileni</td>\n",
       "      <td>female</td>\n",
       "      <td>14.5000</td>\n",
       "      <td>1</td>\n",
       "      <td>0</td>\n",
       "      <td>2665</td>\n",
       "      <td>14.4542</td>\n",
       "      <td>NaN</td>\n",
       "      <td>C</td>\n",
       "      <td>0</td>\n",
       "    </tr>\n",
       "    <tr>\n",
       "      <th>1305</th>\n",
       "      <td>3</td>\n",
       "      <td>Zabour, Miss. Thamine</td>\n",
       "      <td>female</td>\n",
       "      <td>NaN</td>\n",
       "      <td>1</td>\n",
       "      <td>0</td>\n",
       "      <td>2665</td>\n",
       "      <td>14.4542</td>\n",
       "      <td>NaN</td>\n",
       "      <td>C</td>\n",
       "      <td>0</td>\n",
       "    </tr>\n",
       "    <tr>\n",
       "      <th>1306</th>\n",
       "      <td>3</td>\n",
       "      <td>Zakarian, Mr. Mapriededer</td>\n",
       "      <td>male</td>\n",
       "      <td>26.5000</td>\n",
       "      <td>0</td>\n",
       "      <td>0</td>\n",
       "      <td>2656</td>\n",
       "      <td>7.2250</td>\n",
       "      <td>NaN</td>\n",
       "      <td>C</td>\n",
       "      <td>0</td>\n",
       "    </tr>\n",
       "    <tr>\n",
       "      <th>1307</th>\n",
       "      <td>3</td>\n",
       "      <td>Zakarian, Mr. Ortin</td>\n",
       "      <td>male</td>\n",
       "      <td>27.0000</td>\n",
       "      <td>0</td>\n",
       "      <td>0</td>\n",
       "      <td>2670</td>\n",
       "      <td>7.2250</td>\n",
       "      <td>NaN</td>\n",
       "      <td>C</td>\n",
       "      <td>0</td>\n",
       "    </tr>\n",
       "    <tr>\n",
       "      <th>1308</th>\n",
       "      <td>3</td>\n",
       "      <td>Zimmerman, Mr. Leo</td>\n",
       "      <td>male</td>\n",
       "      <td>29.0000</td>\n",
       "      <td>0</td>\n",
       "      <td>0</td>\n",
       "      <td>315082</td>\n",
       "      <td>7.8750</td>\n",
       "      <td>NaN</td>\n",
       "      <td>S</td>\n",
       "      <td>0</td>\n",
       "    </tr>\n",
       "  </tbody>\n",
       "</table>\n",
       "<p>1309 rows × 11 columns</p>\n",
       "</div>"
      ],
      "text/plain": [
       "      pclass                                             name     sex  \\\n",
       "0          1                    Allen, Miss. Elisabeth Walton  female   \n",
       "1          1                   Allison, Master. Hudson Trevor    male   \n",
       "2          1                     Allison, Miss. Helen Loraine  female   \n",
       "3          1             Allison, Mr. Hudson Joshua Creighton    male   \n",
       "4          1  Allison, Mrs. Hudson J C (Bessie Waldo Daniels)  female   \n",
       "...      ...                                              ...     ...   \n",
       "1304       3                             Zabour, Miss. Hileni  female   \n",
       "1305       3                            Zabour, Miss. Thamine  female   \n",
       "1306       3                        Zakarian, Mr. Mapriededer    male   \n",
       "1307       3                              Zakarian, Mr. Ortin    male   \n",
       "1308       3                               Zimmerman, Mr. Leo    male   \n",
       "\n",
       "          age  sibsp  parch  ticket      fare    cabin embarked  survived  \n",
       "0     29.0000      0      0   24160  211.3375       B5        S         1  \n",
       "1      0.9167      1      2  113781  151.5500  C22 C26        S         1  \n",
       "2      2.0000      1      2  113781  151.5500  C22 C26        S         0  \n",
       "3     30.0000      1      2  113781  151.5500  C22 C26        S         0  \n",
       "4     25.0000      1      2  113781  151.5500  C22 C26        S         0  \n",
       "...       ...    ...    ...     ...       ...      ...      ...       ...  \n",
       "1304  14.5000      1      0    2665   14.4542      NaN        C         0  \n",
       "1305      NaN      1      0    2665   14.4542      NaN        C         0  \n",
       "1306  26.5000      0      0    2656    7.2250      NaN        C         0  \n",
       "1307  27.0000      0      0    2670    7.2250      NaN        C         0  \n",
       "1308  29.0000      0      0  315082    7.8750      NaN        S         0  \n",
       "\n",
       "[1309 rows x 11 columns]"
      ]
     },
     "execution_count": 71,
     "metadata": {},
     "output_type": "execute_result"
    }
   ],
   "source": [
    "df=pd.read_csv('titanic.csv')\n",
    "df"
   ]
  },
  {
   "cell_type": "code",
   "execution_count": 72,
   "id": "eb53fa9c",
   "metadata": {},
   "outputs": [
    {
     "data": {
      "text/plain": [
       "Index(['pclass', 'name', 'sex', 'age', 'sibsp', 'parch', 'ticket', 'fare',\n",
       "       'cabin', 'embarked', 'survived'],\n",
       "      dtype='object')"
      ]
     },
     "execution_count": 72,
     "metadata": {},
     "output_type": "execute_result"
    }
   ],
   "source": [
    "df.columns"
   ]
  },
  {
   "cell_type": "markdown",
   "id": "b8a38ab7",
   "metadata": {},
   "source": [
    "Clean the dataset\n",
    "\n",
    "a. Check for duplicates\n",
    "\n",
    "b.Check for missing values\n",
    "\n",
    "c.Check for invalid dtypes"
   ]
  },
  {
   "cell_type": "markdown",
   "id": "7c186b06",
   "metadata": {},
   "source": [
    "Check for missing values"
   ]
  },
  {
   "cell_type": "code",
   "execution_count": 73,
   "id": "1fa45e70",
   "metadata": {},
   "outputs": [
    {
     "name": "stdout",
     "output_type": "stream",
     "text": [
      "<class 'pandas.core.frame.DataFrame'>\n",
      "RangeIndex: 1309 entries, 0 to 1308\n",
      "Data columns (total 11 columns):\n",
      " #   Column    Non-Null Count  Dtype  \n",
      "---  ------    --------------  -----  \n",
      " 0   pclass    1309 non-null   int64  \n",
      " 1   name      1309 non-null   object \n",
      " 2   sex       1309 non-null   object \n",
      " 3   age       1046 non-null   float64\n",
      " 4   sibsp     1309 non-null   int64  \n",
      " 5   parch     1309 non-null   int64  \n",
      " 6   ticket    1309 non-null   object \n",
      " 7   fare      1308 non-null   float64\n",
      " 8   cabin     295 non-null    object \n",
      " 9   embarked  1307 non-null   object \n",
      " 10  survived  1309 non-null   int64  \n",
      "dtypes: float64(2), int64(4), object(5)\n",
      "memory usage: 112.6+ KB\n"
     ]
    }
   ],
   "source": [
    "df.info()  #here we see the missing value"
   ]
  },
  {
   "cell_type": "markdown",
   "id": "b2a3fa2a",
   "metadata": {},
   "source": [
    "Observation:\n",
    "\n",
    "1. Age column have missing values\n",
    "\n",
    "2. Fare column have 1 missing data\n",
    "\n",
    "3. Cabin column must be removed(to many missing values)\n",
    "\n",
    "4. Embarked column must be handeled\n",
    "\n",
    "\n",
    "\n"
   ]
  },
  {
   "cell_type": "markdown",
   "id": "1d0ad877",
   "metadata": {},
   "source": [
    "Check for duplcates"
   ]
  },
  {
   "cell_type": "code",
   "execution_count": 74,
   "id": "3f48dd57",
   "metadata": {},
   "outputs": [
    {
     "data": {
      "text/plain": [
       "np.False_"
      ]
     },
     "execution_count": 74,
     "metadata": {},
     "output_type": "execute_result"
    }
   ],
   "source": [
    "df.duplicated().any()"
   ]
  },
  {
   "cell_type": "code",
   "execution_count": 75,
   "id": "29b6458f",
   "metadata": {},
   "outputs": [
    {
     "data": {
      "text/html": [
       "<div>\n",
       "<style scoped>\n",
       "    .dataframe tbody tr th:only-of-type {\n",
       "        vertical-align: middle;\n",
       "    }\n",
       "\n",
       "    .dataframe tbody tr th {\n",
       "        vertical-align: top;\n",
       "    }\n",
       "\n",
       "    .dataframe thead th {\n",
       "        text-align: right;\n",
       "    }\n",
       "</style>\n",
       "<table border=\"1\" class=\"dataframe\">\n",
       "  <thead>\n",
       "    <tr style=\"text-align: right;\">\n",
       "      <th></th>\n",
       "      <th>pclass</th>\n",
       "      <th>name</th>\n",
       "      <th>sex</th>\n",
       "      <th>age</th>\n",
       "      <th>sibsp</th>\n",
       "      <th>parch</th>\n",
       "      <th>ticket</th>\n",
       "      <th>fare</th>\n",
       "      <th>cabin</th>\n",
       "      <th>embarked</th>\n",
       "      <th>survived</th>\n",
       "    </tr>\n",
       "  </thead>\n",
       "  <tbody>\n",
       "    <tr>\n",
       "      <th>0</th>\n",
       "      <td>1</td>\n",
       "      <td>Allen, Miss. Elisabeth Walton</td>\n",
       "      <td>female</td>\n",
       "      <td>29.0000</td>\n",
       "      <td>0</td>\n",
       "      <td>0</td>\n",
       "      <td>24160</td>\n",
       "      <td>211.3375</td>\n",
       "      <td>B5</td>\n",
       "      <td>S</td>\n",
       "      <td>1</td>\n",
       "    </tr>\n",
       "    <tr>\n",
       "      <th>1</th>\n",
       "      <td>1</td>\n",
       "      <td>Allison, Master. Hudson Trevor</td>\n",
       "      <td>male</td>\n",
       "      <td>0.9167</td>\n",
       "      <td>1</td>\n",
       "      <td>2</td>\n",
       "      <td>113781</td>\n",
       "      <td>151.5500</td>\n",
       "      <td>C22 C26</td>\n",
       "      <td>S</td>\n",
       "      <td>1</td>\n",
       "    </tr>\n",
       "    <tr>\n",
       "      <th>2</th>\n",
       "      <td>1</td>\n",
       "      <td>Allison, Miss. Helen Loraine</td>\n",
       "      <td>female</td>\n",
       "      <td>2.0000</td>\n",
       "      <td>1</td>\n",
       "      <td>2</td>\n",
       "      <td>113781</td>\n",
       "      <td>151.5500</td>\n",
       "      <td>C22 C26</td>\n",
       "      <td>S</td>\n",
       "      <td>0</td>\n",
       "    </tr>\n",
       "  </tbody>\n",
       "</table>\n",
       "</div>"
      ],
      "text/plain": [
       "   pclass                            name     sex      age  sibsp  parch  \\\n",
       "0       1   Allen, Miss. Elisabeth Walton  female  29.0000      0      0   \n",
       "1       1  Allison, Master. Hudson Trevor    male   0.9167      1      2   \n",
       "2       1    Allison, Miss. Helen Loraine  female   2.0000      1      2   \n",
       "\n",
       "   ticket      fare    cabin embarked  survived  \n",
       "0   24160  211.3375       B5        S         1  \n",
       "1  113781  151.5500  C22 C26        S         1  \n",
       "2  113781  151.5500  C22 C26        S         0  "
      ]
     },
     "execution_count": 75,
     "metadata": {},
     "output_type": "execute_result"
    }
   ],
   "source": [
    "df.head(3)\n"
   ]
  },
  {
   "cell_type": "markdown",
   "id": "120cfb87",
   "metadata": {},
   "source": [
    "Handle missing data/column"
   ]
  },
  {
   "cell_type": "markdown",
   "id": "6eb601e6",
   "metadata": {},
   "source": [
    "Note:\n",
    "1. Mode only for alphabetical data\n",
    "2. when outliers are present use median\n"
   ]
  },
  {
   "cell_type": "code",
   "execution_count": 76,
   "id": "1c0486d2",
   "metadata": {},
   "outputs": [],
   "source": [
    "md_age=df['age'].median()          "
   ]
  },
  {
   "cell_type": "code",
   "execution_count": 77,
   "id": "60003f16",
   "metadata": {},
   "outputs": [],
   "source": [
    "md_fare=df['fare'].median()"
   ]
  },
  {
   "cell_type": "code",
   "execution_count": 78,
   "id": "c0635874",
   "metadata": {},
   "outputs": [],
   "source": [
    "m_embarked=df['embarked'].mode()"
   ]
  },
  {
   "cell_type": "code",
   "execution_count": 79,
   "id": "5696811c",
   "metadata": {},
   "outputs": [],
   "source": [
    "df['age']=df['age'].fillna(md_age)\n",
    "df['fare']=df['fare'].fillna(md_fare)\n",
    "df['embarked']=df['embarked'].fillna(m_embarked)"
   ]
  },
  {
   "cell_type": "code",
   "execution_count": 80,
   "id": "c85c6dcc",
   "metadata": {},
   "outputs": [],
   "source": [
    "df=df.drop(columns='cabin')"
   ]
  },
  {
   "cell_type": "code",
   "execution_count": 81,
   "id": "637a0dde",
   "metadata": {},
   "outputs": [
    {
     "data": {
      "text/plain": [
       "Index(['pclass', 'name', 'sex', 'age', 'sibsp', 'parch', 'ticket', 'fare',\n",
       "       'embarked', 'survived'],\n",
       "      dtype='object')"
      ]
     },
     "execution_count": 81,
     "metadata": {},
     "output_type": "execute_result"
    }
   ],
   "source": [
    "df.columns"
   ]
  },
  {
   "cell_type": "markdown",
   "id": "5c0920ca",
   "metadata": {},
   "source": [
    "Feature engineering/Data transformation\n",
    "\n",
    "1. Create new columns if needed\n",
    "\n",
    "2. Modfy the data"
   ]
  },
  {
   "cell_type": "code",
   "execution_count": 82,
   "id": "dacdb322",
   "metadata": {},
   "outputs": [
    {
     "data": {
      "text/plain": [
       "array(['S', 'C', nan, 'Q'], dtype=object)"
      ]
     },
     "execution_count": 82,
     "metadata": {},
     "output_type": "execute_result"
    }
   ],
   "source": [
    "df['embarked'].unique()"
   ]
  },
  {
   "cell_type": "code",
   "execution_count": 83,
   "id": "c2abd70d",
   "metadata": {},
   "outputs": [],
   "source": [
    "df['embarked']=df['embarked'].replace({'S':'Southapton','C':'Cherbourg','Q':'Queenstown'})"
   ]
  },
  {
   "cell_type": "code",
   "execution_count": 84,
   "id": "79e15a23",
   "metadata": {},
   "outputs": [],
   "source": [
    "df['Family_count']=df['sibsp']+df['parch']"
   ]
  },
  {
   "cell_type": "code",
   "execution_count": 85,
   "id": "67b281bb",
   "metadata": {},
   "outputs": [
    {
     "data": {
      "text/html": [
       "<div>\n",
       "<style scoped>\n",
       "    .dataframe tbody tr th:only-of-type {\n",
       "        vertical-align: middle;\n",
       "    }\n",
       "\n",
       "    .dataframe tbody tr th {\n",
       "        vertical-align: top;\n",
       "    }\n",
       "\n",
       "    .dataframe thead th {\n",
       "        text-align: right;\n",
       "    }\n",
       "</style>\n",
       "<table border=\"1\" class=\"dataframe\">\n",
       "  <thead>\n",
       "    <tr style=\"text-align: right;\">\n",
       "      <th></th>\n",
       "      <th>pclass</th>\n",
       "      <th>name</th>\n",
       "      <th>sex</th>\n",
       "      <th>age</th>\n",
       "      <th>ticket</th>\n",
       "      <th>fare</th>\n",
       "      <th>embarked</th>\n",
       "      <th>survived</th>\n",
       "      <th>Family_count</th>\n",
       "    </tr>\n",
       "  </thead>\n",
       "  <tbody>\n",
       "    <tr>\n",
       "      <th>0</th>\n",
       "      <td>1</td>\n",
       "      <td>Allen, Miss. Elisabeth Walton</td>\n",
       "      <td>female</td>\n",
       "      <td>29.0000</td>\n",
       "      <td>24160</td>\n",
       "      <td>211.3375</td>\n",
       "      <td>Southapton</td>\n",
       "      <td>1</td>\n",
       "      <td>0</td>\n",
       "    </tr>\n",
       "    <tr>\n",
       "      <th>1</th>\n",
       "      <td>1</td>\n",
       "      <td>Allison, Master. Hudson Trevor</td>\n",
       "      <td>male</td>\n",
       "      <td>0.9167</td>\n",
       "      <td>113781</td>\n",
       "      <td>151.5500</td>\n",
       "      <td>Southapton</td>\n",
       "      <td>1</td>\n",
       "      <td>3</td>\n",
       "    </tr>\n",
       "    <tr>\n",
       "      <th>2</th>\n",
       "      <td>1</td>\n",
       "      <td>Allison, Miss. Helen Loraine</td>\n",
       "      <td>female</td>\n",
       "      <td>2.0000</td>\n",
       "      <td>113781</td>\n",
       "      <td>151.5500</td>\n",
       "      <td>Southapton</td>\n",
       "      <td>0</td>\n",
       "      <td>3</td>\n",
       "    </tr>\n",
       "    <tr>\n",
       "      <th>3</th>\n",
       "      <td>1</td>\n",
       "      <td>Allison, Mr. Hudson Joshua Creighton</td>\n",
       "      <td>male</td>\n",
       "      <td>30.0000</td>\n",
       "      <td>113781</td>\n",
       "      <td>151.5500</td>\n",
       "      <td>Southapton</td>\n",
       "      <td>0</td>\n",
       "      <td>3</td>\n",
       "    </tr>\n",
       "    <tr>\n",
       "      <th>4</th>\n",
       "      <td>1</td>\n",
       "      <td>Allison, Mrs. Hudson J C (Bessie Waldo Daniels)</td>\n",
       "      <td>female</td>\n",
       "      <td>25.0000</td>\n",
       "      <td>113781</td>\n",
       "      <td>151.5500</td>\n",
       "      <td>Southapton</td>\n",
       "      <td>0</td>\n",
       "      <td>3</td>\n",
       "    </tr>\n",
       "    <tr>\n",
       "      <th>...</th>\n",
       "      <td>...</td>\n",
       "      <td>...</td>\n",
       "      <td>...</td>\n",
       "      <td>...</td>\n",
       "      <td>...</td>\n",
       "      <td>...</td>\n",
       "      <td>...</td>\n",
       "      <td>...</td>\n",
       "      <td>...</td>\n",
       "    </tr>\n",
       "    <tr>\n",
       "      <th>1304</th>\n",
       "      <td>3</td>\n",
       "      <td>Zabour, Miss. Hileni</td>\n",
       "      <td>female</td>\n",
       "      <td>14.5000</td>\n",
       "      <td>2665</td>\n",
       "      <td>14.4542</td>\n",
       "      <td>Cherbourg</td>\n",
       "      <td>0</td>\n",
       "      <td>1</td>\n",
       "    </tr>\n",
       "    <tr>\n",
       "      <th>1305</th>\n",
       "      <td>3</td>\n",
       "      <td>Zabour, Miss. Thamine</td>\n",
       "      <td>female</td>\n",
       "      <td>28.0000</td>\n",
       "      <td>2665</td>\n",
       "      <td>14.4542</td>\n",
       "      <td>Cherbourg</td>\n",
       "      <td>0</td>\n",
       "      <td>1</td>\n",
       "    </tr>\n",
       "    <tr>\n",
       "      <th>1306</th>\n",
       "      <td>3</td>\n",
       "      <td>Zakarian, Mr. Mapriededer</td>\n",
       "      <td>male</td>\n",
       "      <td>26.5000</td>\n",
       "      <td>2656</td>\n",
       "      <td>7.2250</td>\n",
       "      <td>Cherbourg</td>\n",
       "      <td>0</td>\n",
       "      <td>0</td>\n",
       "    </tr>\n",
       "    <tr>\n",
       "      <th>1307</th>\n",
       "      <td>3</td>\n",
       "      <td>Zakarian, Mr. Ortin</td>\n",
       "      <td>male</td>\n",
       "      <td>27.0000</td>\n",
       "      <td>2670</td>\n",
       "      <td>7.2250</td>\n",
       "      <td>Cherbourg</td>\n",
       "      <td>0</td>\n",
       "      <td>0</td>\n",
       "    </tr>\n",
       "    <tr>\n",
       "      <th>1308</th>\n",
       "      <td>3</td>\n",
       "      <td>Zimmerman, Mr. Leo</td>\n",
       "      <td>male</td>\n",
       "      <td>29.0000</td>\n",
       "      <td>315082</td>\n",
       "      <td>7.8750</td>\n",
       "      <td>Southapton</td>\n",
       "      <td>0</td>\n",
       "      <td>0</td>\n",
       "    </tr>\n",
       "  </tbody>\n",
       "</table>\n",
       "<p>1309 rows × 9 columns</p>\n",
       "</div>"
      ],
      "text/plain": [
       "      pclass                                             name     sex  \\\n",
       "0          1                    Allen, Miss. Elisabeth Walton  female   \n",
       "1          1                   Allison, Master. Hudson Trevor    male   \n",
       "2          1                     Allison, Miss. Helen Loraine  female   \n",
       "3          1             Allison, Mr. Hudson Joshua Creighton    male   \n",
       "4          1  Allison, Mrs. Hudson J C (Bessie Waldo Daniels)  female   \n",
       "...      ...                                              ...     ...   \n",
       "1304       3                             Zabour, Miss. Hileni  female   \n",
       "1305       3                            Zabour, Miss. Thamine  female   \n",
       "1306       3                        Zakarian, Mr. Mapriededer    male   \n",
       "1307       3                              Zakarian, Mr. Ortin    male   \n",
       "1308       3                               Zimmerman, Mr. Leo    male   \n",
       "\n",
       "          age  ticket      fare    embarked  survived  Family_count  \n",
       "0     29.0000   24160  211.3375  Southapton         1             0  \n",
       "1      0.9167  113781  151.5500  Southapton         1             3  \n",
       "2      2.0000  113781  151.5500  Southapton         0             3  \n",
       "3     30.0000  113781  151.5500  Southapton         0             3  \n",
       "4     25.0000  113781  151.5500  Southapton         0             3  \n",
       "...       ...     ...       ...         ...       ...           ...  \n",
       "1304  14.5000    2665   14.4542   Cherbourg         0             1  \n",
       "1305  28.0000    2665   14.4542   Cherbourg         0             1  \n",
       "1306  26.5000    2656    7.2250   Cherbourg         0             0  \n",
       "1307  27.0000    2670    7.2250   Cherbourg         0             0  \n",
       "1308  29.0000  315082    7.8750  Southapton         0             0  \n",
       "\n",
       "[1309 rows x 9 columns]"
      ]
     },
     "execution_count": 85,
     "metadata": {},
     "output_type": "execute_result"
    }
   ],
   "source": [
    "df.drop(columns=['sibsp','parch'])"
   ]
  },
  {
   "cell_type": "code",
   "execution_count": 86,
   "id": "66cc9ed0",
   "metadata": {},
   "outputs": [
    {
     "data": {
      "text/plain": [
       "Index(['pclass', 'name', 'sex', 'age', 'sibsp', 'parch', 'ticket', 'fare',\n",
       "       'embarked', 'survived', 'Family_count'],\n",
       "      dtype='object')"
      ]
     },
     "execution_count": 86,
     "metadata": {},
     "output_type": "execute_result"
    }
   ],
   "source": [
    "df.columns"
   ]
  },
  {
   "cell_type": "code",
   "execution_count": 87,
   "id": "ba0a7c63",
   "metadata": {},
   "outputs": [],
   "source": [
    "df[['last_name','Title_first_name']]=df['name'].str.split(',',expand=True)"
   ]
  },
  {
   "cell_type": "code",
   "execution_count": 88,
   "id": "6fbdc64c",
   "metadata": {},
   "outputs": [
    {
     "data": {
      "text/html": [
       "<div>\n",
       "<style scoped>\n",
       "    .dataframe tbody tr th:only-of-type {\n",
       "        vertical-align: middle;\n",
       "    }\n",
       "\n",
       "    .dataframe tbody tr th {\n",
       "        vertical-align: top;\n",
       "    }\n",
       "\n",
       "    .dataframe thead th {\n",
       "        text-align: right;\n",
       "    }\n",
       "</style>\n",
       "<table border=\"1\" class=\"dataframe\">\n",
       "  <thead>\n",
       "    <tr style=\"text-align: right;\">\n",
       "      <th></th>\n",
       "      <th>pclass</th>\n",
       "      <th>name</th>\n",
       "      <th>sex</th>\n",
       "      <th>age</th>\n",
       "      <th>sibsp</th>\n",
       "      <th>parch</th>\n",
       "      <th>ticket</th>\n",
       "      <th>fare</th>\n",
       "      <th>embarked</th>\n",
       "      <th>survived</th>\n",
       "      <th>Family_count</th>\n",
       "      <th>last_name</th>\n",
       "      <th>Title_first_name</th>\n",
       "    </tr>\n",
       "  </thead>\n",
       "  <tbody>\n",
       "    <tr>\n",
       "      <th>0</th>\n",
       "      <td>1</td>\n",
       "      <td>Allen, Miss. Elisabeth Walton</td>\n",
       "      <td>female</td>\n",
       "      <td>29.0000</td>\n",
       "      <td>0</td>\n",
       "      <td>0</td>\n",
       "      <td>24160</td>\n",
       "      <td>211.3375</td>\n",
       "      <td>Southapton</td>\n",
       "      <td>1</td>\n",
       "      <td>0</td>\n",
       "      <td>Allen</td>\n",
       "      <td>Miss. Elisabeth Walton</td>\n",
       "    </tr>\n",
       "    <tr>\n",
       "      <th>1</th>\n",
       "      <td>1</td>\n",
       "      <td>Allison, Master. Hudson Trevor</td>\n",
       "      <td>male</td>\n",
       "      <td>0.9167</td>\n",
       "      <td>1</td>\n",
       "      <td>2</td>\n",
       "      <td>113781</td>\n",
       "      <td>151.5500</td>\n",
       "      <td>Southapton</td>\n",
       "      <td>1</td>\n",
       "      <td>3</td>\n",
       "      <td>Allison</td>\n",
       "      <td>Master. Hudson Trevor</td>\n",
       "    </tr>\n",
       "    <tr>\n",
       "      <th>2</th>\n",
       "      <td>1</td>\n",
       "      <td>Allison, Miss. Helen Loraine</td>\n",
       "      <td>female</td>\n",
       "      <td>2.0000</td>\n",
       "      <td>1</td>\n",
       "      <td>2</td>\n",
       "      <td>113781</td>\n",
       "      <td>151.5500</td>\n",
       "      <td>Southapton</td>\n",
       "      <td>0</td>\n",
       "      <td>3</td>\n",
       "      <td>Allison</td>\n",
       "      <td>Miss. Helen Loraine</td>\n",
       "    </tr>\n",
       "    <tr>\n",
       "      <th>3</th>\n",
       "      <td>1</td>\n",
       "      <td>Allison, Mr. Hudson Joshua Creighton</td>\n",
       "      <td>male</td>\n",
       "      <td>30.0000</td>\n",
       "      <td>1</td>\n",
       "      <td>2</td>\n",
       "      <td>113781</td>\n",
       "      <td>151.5500</td>\n",
       "      <td>Southapton</td>\n",
       "      <td>0</td>\n",
       "      <td>3</td>\n",
       "      <td>Allison</td>\n",
       "      <td>Mr. Hudson Joshua Creighton</td>\n",
       "    </tr>\n",
       "    <tr>\n",
       "      <th>4</th>\n",
       "      <td>1</td>\n",
       "      <td>Allison, Mrs. Hudson J C (Bessie Waldo Daniels)</td>\n",
       "      <td>female</td>\n",
       "      <td>25.0000</td>\n",
       "      <td>1</td>\n",
       "      <td>2</td>\n",
       "      <td>113781</td>\n",
       "      <td>151.5500</td>\n",
       "      <td>Southapton</td>\n",
       "      <td>0</td>\n",
       "      <td>3</td>\n",
       "      <td>Allison</td>\n",
       "      <td>Mrs. Hudson J C (Bessie Waldo Daniels)</td>\n",
       "    </tr>\n",
       "    <tr>\n",
       "      <th>...</th>\n",
       "      <td>...</td>\n",
       "      <td>...</td>\n",
       "      <td>...</td>\n",
       "      <td>...</td>\n",
       "      <td>...</td>\n",
       "      <td>...</td>\n",
       "      <td>...</td>\n",
       "      <td>...</td>\n",
       "      <td>...</td>\n",
       "      <td>...</td>\n",
       "      <td>...</td>\n",
       "      <td>...</td>\n",
       "      <td>...</td>\n",
       "    </tr>\n",
       "    <tr>\n",
       "      <th>1304</th>\n",
       "      <td>3</td>\n",
       "      <td>Zabour, Miss. Hileni</td>\n",
       "      <td>female</td>\n",
       "      <td>14.5000</td>\n",
       "      <td>1</td>\n",
       "      <td>0</td>\n",
       "      <td>2665</td>\n",
       "      <td>14.4542</td>\n",
       "      <td>Cherbourg</td>\n",
       "      <td>0</td>\n",
       "      <td>1</td>\n",
       "      <td>Zabour</td>\n",
       "      <td>Miss. Hileni</td>\n",
       "    </tr>\n",
       "    <tr>\n",
       "      <th>1305</th>\n",
       "      <td>3</td>\n",
       "      <td>Zabour, Miss. Thamine</td>\n",
       "      <td>female</td>\n",
       "      <td>28.0000</td>\n",
       "      <td>1</td>\n",
       "      <td>0</td>\n",
       "      <td>2665</td>\n",
       "      <td>14.4542</td>\n",
       "      <td>Cherbourg</td>\n",
       "      <td>0</td>\n",
       "      <td>1</td>\n",
       "      <td>Zabour</td>\n",
       "      <td>Miss. Thamine</td>\n",
       "    </tr>\n",
       "    <tr>\n",
       "      <th>1306</th>\n",
       "      <td>3</td>\n",
       "      <td>Zakarian, Mr. Mapriededer</td>\n",
       "      <td>male</td>\n",
       "      <td>26.5000</td>\n",
       "      <td>0</td>\n",
       "      <td>0</td>\n",
       "      <td>2656</td>\n",
       "      <td>7.2250</td>\n",
       "      <td>Cherbourg</td>\n",
       "      <td>0</td>\n",
       "      <td>0</td>\n",
       "      <td>Zakarian</td>\n",
       "      <td>Mr. Mapriededer</td>\n",
       "    </tr>\n",
       "    <tr>\n",
       "      <th>1307</th>\n",
       "      <td>3</td>\n",
       "      <td>Zakarian, Mr. Ortin</td>\n",
       "      <td>male</td>\n",
       "      <td>27.0000</td>\n",
       "      <td>0</td>\n",
       "      <td>0</td>\n",
       "      <td>2670</td>\n",
       "      <td>7.2250</td>\n",
       "      <td>Cherbourg</td>\n",
       "      <td>0</td>\n",
       "      <td>0</td>\n",
       "      <td>Zakarian</td>\n",
       "      <td>Mr. Ortin</td>\n",
       "    </tr>\n",
       "    <tr>\n",
       "      <th>1308</th>\n",
       "      <td>3</td>\n",
       "      <td>Zimmerman, Mr. Leo</td>\n",
       "      <td>male</td>\n",
       "      <td>29.0000</td>\n",
       "      <td>0</td>\n",
       "      <td>0</td>\n",
       "      <td>315082</td>\n",
       "      <td>7.8750</td>\n",
       "      <td>Southapton</td>\n",
       "      <td>0</td>\n",
       "      <td>0</td>\n",
       "      <td>Zimmerman</td>\n",
       "      <td>Mr. Leo</td>\n",
       "    </tr>\n",
       "  </tbody>\n",
       "</table>\n",
       "<p>1309 rows × 13 columns</p>\n",
       "</div>"
      ],
      "text/plain": [
       "      pclass                                             name     sex  \\\n",
       "0          1                    Allen, Miss. Elisabeth Walton  female   \n",
       "1          1                   Allison, Master. Hudson Trevor    male   \n",
       "2          1                     Allison, Miss. Helen Loraine  female   \n",
       "3          1             Allison, Mr. Hudson Joshua Creighton    male   \n",
       "4          1  Allison, Mrs. Hudson J C (Bessie Waldo Daniels)  female   \n",
       "...      ...                                              ...     ...   \n",
       "1304       3                             Zabour, Miss. Hileni  female   \n",
       "1305       3                            Zabour, Miss. Thamine  female   \n",
       "1306       3                        Zakarian, Mr. Mapriededer    male   \n",
       "1307       3                              Zakarian, Mr. Ortin    male   \n",
       "1308       3                               Zimmerman, Mr. Leo    male   \n",
       "\n",
       "          age  sibsp  parch  ticket      fare    embarked  survived  \\\n",
       "0     29.0000      0      0   24160  211.3375  Southapton         1   \n",
       "1      0.9167      1      2  113781  151.5500  Southapton         1   \n",
       "2      2.0000      1      2  113781  151.5500  Southapton         0   \n",
       "3     30.0000      1      2  113781  151.5500  Southapton         0   \n",
       "4     25.0000      1      2  113781  151.5500  Southapton         0   \n",
       "...       ...    ...    ...     ...       ...         ...       ...   \n",
       "1304  14.5000      1      0    2665   14.4542   Cherbourg         0   \n",
       "1305  28.0000      1      0    2665   14.4542   Cherbourg         0   \n",
       "1306  26.5000      0      0    2656    7.2250   Cherbourg         0   \n",
       "1307  27.0000      0      0    2670    7.2250   Cherbourg         0   \n",
       "1308  29.0000      0      0  315082    7.8750  Southapton         0   \n",
       "\n",
       "      Family_count  last_name                         Title_first_name  \n",
       "0                0      Allen                   Miss. Elisabeth Walton  \n",
       "1                3    Allison                    Master. Hudson Trevor  \n",
       "2                3    Allison                      Miss. Helen Loraine  \n",
       "3                3    Allison              Mr. Hudson Joshua Creighton  \n",
       "4                3    Allison   Mrs. Hudson J C (Bessie Waldo Daniels)  \n",
       "...            ...        ...                                      ...  \n",
       "1304             1     Zabour                             Miss. Hileni  \n",
       "1305             1     Zabour                            Miss. Thamine  \n",
       "1306             0   Zakarian                          Mr. Mapriededer  \n",
       "1307             0   Zakarian                                Mr. Ortin  \n",
       "1308             0  Zimmerman                                  Mr. Leo  \n",
       "\n",
       "[1309 rows x 13 columns]"
      ]
     },
     "execution_count": 88,
     "metadata": {},
     "output_type": "execute_result"
    }
   ],
   "source": [
    "df.columns\n",
    "df"
   ]
  },
  {
   "cell_type": "code",
   "execution_count": 89,
   "id": "324f08c6",
   "metadata": {},
   "outputs": [],
   "source": [
    "df[['Title','First_name']]=df['Title_first_name'].str.split('.',n=1,expand=True)"
   ]
  },
  {
   "cell_type": "code",
   "execution_count": 90,
   "id": "84a8454a",
   "metadata": {},
   "outputs": [
    {
     "data": {
      "text/plain": [
       "Index(['pclass', 'name', 'sex', 'age', 'sibsp', 'parch', 'ticket', 'fare',\n",
       "       'embarked', 'survived', 'Family_count', 'last_name', 'Title_first_name',\n",
       "       'Title', 'First_name'],\n",
       "      dtype='object')"
      ]
     },
     "execution_count": 90,
     "metadata": {},
     "output_type": "execute_result"
    }
   ],
   "source": [
    "df.columns"
   ]
  },
  {
   "cell_type": "code",
   "execution_count": 91,
   "id": "d08cb4fa",
   "metadata": {},
   "outputs": [],
   "source": [
    "df=df.drop(columns='Title_first_name')"
   ]
  },
  {
   "cell_type": "code",
   "execution_count": 92,
   "id": "19e3d687",
   "metadata": {},
   "outputs": [],
   "source": [
    "lst=['Title','First_name','last_name', 'sex', 'age','Family_count','ticket','pclass','fare','embarked','survived']\n",
    "df=df[lst]"
   ]
  },
  {
   "cell_type": "code",
   "execution_count": 93,
   "id": "84da62b4",
   "metadata": {},
   "outputs": [],
   "source": [
    "df=df.rename(columns={'sex':'Gender'})"
   ]
  },
  {
   "cell_type": "code",
   "execution_count": 94,
   "id": "b14f2174",
   "metadata": {},
   "outputs": [
    {
     "data": {
      "text/plain": [
       "Index(['Title', 'First_name', 'last_name', 'Gender', 'age', 'Family_count',\n",
       "       'ticket', 'pclass', 'fare', 'embarked', 'survived'],\n",
       "      dtype='object')"
      ]
     },
     "execution_count": 94,
     "metadata": {},
     "output_type": "execute_result"
    }
   ],
   "source": [
    "df.columns"
   ]
  },
  {
   "cell_type": "code",
   "execution_count": 95,
   "id": "aa80fb2d",
   "metadata": {},
   "outputs": [],
   "source": [
    "df['age']=df['age'].round(2)\n",
    "df['fare']=df['fare'].round(2)\n"
   ]
  },
  {
   "cell_type": "code",
   "execution_count": 96,
   "id": "87b483e8",
   "metadata": {},
   "outputs": [],
   "source": [
    "def f1(d):\n",
    "    if d['Family_count']>0:\n",
    "        return 'family/friends'\n",
    "    else:\n",
    "        return 'solo'\n",
    "df['companion_type']=df.apply(f1,axis=1)"
   ]
  },
  {
   "cell_type": "code",
   "execution_count": 97,
   "id": "3ec3ac49",
   "metadata": {},
   "outputs": [],
   "source": [
    "for i in ['Title', 'First_name', 'last_name']:\n",
    "    df[i]=df[i].str.strip()"
   ]
  },
  {
   "cell_type": "code",
   "execution_count": 98,
   "id": "a7c87685",
   "metadata": {},
   "outputs": [
    {
     "data": {
      "text/html": [
       "<div>\n",
       "<style scoped>\n",
       "    .dataframe tbody tr th:only-of-type {\n",
       "        vertical-align: middle;\n",
       "    }\n",
       "\n",
       "    .dataframe tbody tr th {\n",
       "        vertical-align: top;\n",
       "    }\n",
       "\n",
       "    .dataframe thead th {\n",
       "        text-align: right;\n",
       "    }\n",
       "</style>\n",
       "<table border=\"1\" class=\"dataframe\">\n",
       "  <thead>\n",
       "    <tr style=\"text-align: right;\">\n",
       "      <th></th>\n",
       "      <th>Title</th>\n",
       "      <th>First_name</th>\n",
       "      <th>last_name</th>\n",
       "      <th>Gender</th>\n",
       "      <th>age</th>\n",
       "      <th>Family_count</th>\n",
       "      <th>ticket</th>\n",
       "      <th>pclass</th>\n",
       "      <th>fare</th>\n",
       "      <th>embarked</th>\n",
       "      <th>survived</th>\n",
       "      <th>companion_type</th>\n",
       "    </tr>\n",
       "  </thead>\n",
       "  <tbody>\n",
       "    <tr>\n",
       "      <th>0</th>\n",
       "      <td>Miss</td>\n",
       "      <td>Elisabeth Walton</td>\n",
       "      <td>Allen</td>\n",
       "      <td>female</td>\n",
       "      <td>29.00</td>\n",
       "      <td>0</td>\n",
       "      <td>24160</td>\n",
       "      <td>1</td>\n",
       "      <td>211.34</td>\n",
       "      <td>Southapton</td>\n",
       "      <td>1</td>\n",
       "      <td>solo</td>\n",
       "    </tr>\n",
       "    <tr>\n",
       "      <th>1</th>\n",
       "      <td>Master</td>\n",
       "      <td>Hudson Trevor</td>\n",
       "      <td>Allison</td>\n",
       "      <td>male</td>\n",
       "      <td>0.92</td>\n",
       "      <td>3</td>\n",
       "      <td>113781</td>\n",
       "      <td>1</td>\n",
       "      <td>151.55</td>\n",
       "      <td>Southapton</td>\n",
       "      <td>1</td>\n",
       "      <td>family/friends</td>\n",
       "    </tr>\n",
       "  </tbody>\n",
       "</table>\n",
       "</div>"
      ],
      "text/plain": [
       "    Title        First_name last_name  Gender    age  Family_count  ticket  \\\n",
       "0    Miss  Elisabeth Walton     Allen  female  29.00             0   24160   \n",
       "1  Master     Hudson Trevor   Allison    male   0.92             3  113781   \n",
       "\n",
       "   pclass    fare    embarked  survived  companion_type  \n",
       "0       1  211.34  Southapton         1            solo  \n",
       "1       1  151.55  Southapton         1  family/friends  "
      ]
     },
     "execution_count": 98,
     "metadata": {},
     "output_type": "execute_result"
    }
   ],
   "source": [
    "df.head(2)"
   ]
  },
  {
   "cell_type": "markdown",
   "id": "c6b68b1b",
   "metadata": {},
   "source": [
    "Sort the data according to the ascending order of the ticket"
   ]
  },
  {
   "cell_type": "code",
   "execution_count": 99,
   "id": "fe72d672",
   "metadata": {},
   "outputs": [
    {
     "data": {
      "text/html": [
       "<div>\n",
       "<style scoped>\n",
       "    .dataframe tbody tr th:only-of-type {\n",
       "        vertical-align: middle;\n",
       "    }\n",
       "\n",
       "    .dataframe tbody tr th {\n",
       "        vertical-align: top;\n",
       "    }\n",
       "\n",
       "    .dataframe thead th {\n",
       "        text-align: right;\n",
       "    }\n",
       "</style>\n",
       "<table border=\"1\" class=\"dataframe\">\n",
       "  <thead>\n",
       "    <tr style=\"text-align: right;\">\n",
       "      <th></th>\n",
       "      <th>Title</th>\n",
       "      <th>First_name</th>\n",
       "      <th>last_name</th>\n",
       "      <th>Gender</th>\n",
       "      <th>age</th>\n",
       "      <th>Family_count</th>\n",
       "      <th>ticket</th>\n",
       "      <th>pclass</th>\n",
       "      <th>fare</th>\n",
       "      <th>embarked</th>\n",
       "      <th>survived</th>\n",
       "      <th>companion_type</th>\n",
       "    </tr>\n",
       "  </thead>\n",
       "  <tbody>\n",
       "    <tr>\n",
       "      <th>67</th>\n",
       "      <td>Miss</td>\n",
       "      <td>Gladys</td>\n",
       "      <td>Cherry</td>\n",
       "      <td>female</td>\n",
       "      <td>30.0</td>\n",
       "      <td>0</td>\n",
       "      <td>110152</td>\n",
       "      <td>1</td>\n",
       "      <td>86.50</td>\n",
       "      <td>Southapton</td>\n",
       "      <td>1</td>\n",
       "      <td>solo</td>\n",
       "    </tr>\n",
       "    <tr>\n",
       "      <th>245</th>\n",
       "      <td>the Countess</td>\n",
       "      <td>of (Lucy Noel Martha Dyer-Edwards)</td>\n",
       "      <td>Rothes</td>\n",
       "      <td>female</td>\n",
       "      <td>33.0</td>\n",
       "      <td>0</td>\n",
       "      <td>110152</td>\n",
       "      <td>1</td>\n",
       "      <td>86.50</td>\n",
       "      <td>Southapton</td>\n",
       "      <td>1</td>\n",
       "      <td>solo</td>\n",
       "    </tr>\n",
       "    <tr>\n",
       "      <th>195</th>\n",
       "      <td>Miss</td>\n",
       "      <td>Roberta</td>\n",
       "      <td>Maioni</td>\n",
       "      <td>female</td>\n",
       "      <td>16.0</td>\n",
       "      <td>0</td>\n",
       "      <td>110152</td>\n",
       "      <td>1</td>\n",
       "      <td>86.50</td>\n",
       "      <td>Southapton</td>\n",
       "      <td>1</td>\n",
       "      <td>solo</td>\n",
       "    </tr>\n",
       "    <tr>\n",
       "      <th>289</th>\n",
       "      <td>Miss</td>\n",
       "      <td>Ruth</td>\n",
       "      <td>Taussig</td>\n",
       "      <td>female</td>\n",
       "      <td>18.0</td>\n",
       "      <td>2</td>\n",
       "      <td>110413</td>\n",
       "      <td>1</td>\n",
       "      <td>79.65</td>\n",
       "      <td>Southapton</td>\n",
       "      <td>1</td>\n",
       "      <td>family/friends</td>\n",
       "    </tr>\n",
       "    <tr>\n",
       "      <th>291</th>\n",
       "      <td>Mrs</td>\n",
       "      <td>Emil (Tillie Mandelbaum)</td>\n",
       "      <td>Taussig</td>\n",
       "      <td>female</td>\n",
       "      <td>39.0</td>\n",
       "      <td>2</td>\n",
       "      <td>110413</td>\n",
       "      <td>1</td>\n",
       "      <td>79.65</td>\n",
       "      <td>Southapton</td>\n",
       "      <td>1</td>\n",
       "      <td>family/friends</td>\n",
       "    </tr>\n",
       "    <tr>\n",
       "      <th>...</th>\n",
       "      <td>...</td>\n",
       "      <td>...</td>\n",
       "      <td>...</td>\n",
       "      <td>...</td>\n",
       "      <td>...</td>\n",
       "      <td>...</td>\n",
       "      <td>...</td>\n",
       "      <td>...</td>\n",
       "      <td>...</td>\n",
       "      <td>...</td>\n",
       "      <td>...</td>\n",
       "      <td>...</td>\n",
       "    </tr>\n",
       "    <tr>\n",
       "      <th>63</th>\n",
       "      <td>Mrs</td>\n",
       "      <td>Herbert Fuller (Carrie Constance Toogood)</td>\n",
       "      <td>Chaffee</td>\n",
       "      <td>female</td>\n",
       "      <td>47.0</td>\n",
       "      <td>1</td>\n",
       "      <td>W.E.P. 5734</td>\n",
       "      <td>1</td>\n",
       "      <td>61.18</td>\n",
       "      <td>Southapton</td>\n",
       "      <td>1</td>\n",
       "      <td>family/friends</td>\n",
       "    </tr>\n",
       "    <tr>\n",
       "      <th>62</th>\n",
       "      <td>Mr</td>\n",
       "      <td>Herbert Fuller</td>\n",
       "      <td>Chaffee</td>\n",
       "      <td>male</td>\n",
       "      <td>46.0</td>\n",
       "      <td>1</td>\n",
       "      <td>W.E.P. 5734</td>\n",
       "      <td>1</td>\n",
       "      <td>61.18</td>\n",
       "      <td>Southapton</td>\n",
       "      <td>0</td>\n",
       "      <td>family/friends</td>\n",
       "    </tr>\n",
       "    <tr>\n",
       "      <th>433</th>\n",
       "      <td>Mr</td>\n",
       "      <td>Walter</td>\n",
       "      <td>Harris</td>\n",
       "      <td>male</td>\n",
       "      <td>30.0</td>\n",
       "      <td>0</td>\n",
       "      <td>W/C 14208</td>\n",
       "      <td>2</td>\n",
       "      <td>10.50</td>\n",
       "      <td>Southapton</td>\n",
       "      <td>0</td>\n",
       "      <td>solo</td>\n",
       "    </tr>\n",
       "    <tr>\n",
       "      <th>81</th>\n",
       "      <td>Capt</td>\n",
       "      <td>Edward Gifford</td>\n",
       "      <td>Crosby</td>\n",
       "      <td>male</td>\n",
       "      <td>70.0</td>\n",
       "      <td>2</td>\n",
       "      <td>WE/P 5735</td>\n",
       "      <td>1</td>\n",
       "      <td>71.00</td>\n",
       "      <td>Southapton</td>\n",
       "      <td>0</td>\n",
       "      <td>family/friends</td>\n",
       "    </tr>\n",
       "    <tr>\n",
       "      <th>82</th>\n",
       "      <td>Miss</td>\n",
       "      <td>Harriet R</td>\n",
       "      <td>Crosby</td>\n",
       "      <td>female</td>\n",
       "      <td>36.0</td>\n",
       "      <td>2</td>\n",
       "      <td>WE/P 5735</td>\n",
       "      <td>1</td>\n",
       "      <td>71.00</td>\n",
       "      <td>Southapton</td>\n",
       "      <td>1</td>\n",
       "      <td>family/friends</td>\n",
       "    </tr>\n",
       "  </tbody>\n",
       "</table>\n",
       "<p>1309 rows × 12 columns</p>\n",
       "</div>"
      ],
      "text/plain": [
       "            Title                                 First_name last_name  \\\n",
       "67           Miss                                     Gladys    Cherry   \n",
       "245  the Countess         of (Lucy Noel Martha Dyer-Edwards)    Rothes   \n",
       "195          Miss                                    Roberta    Maioni   \n",
       "289          Miss                                       Ruth   Taussig   \n",
       "291           Mrs                   Emil (Tillie Mandelbaum)   Taussig   \n",
       "..            ...                                        ...       ...   \n",
       "63            Mrs  Herbert Fuller (Carrie Constance Toogood)   Chaffee   \n",
       "62             Mr                             Herbert Fuller   Chaffee   \n",
       "433            Mr                                     Walter    Harris   \n",
       "81           Capt                             Edward Gifford    Crosby   \n",
       "82           Miss                                  Harriet R    Crosby   \n",
       "\n",
       "     Gender   age  Family_count       ticket  pclass   fare    embarked  \\\n",
       "67   female  30.0             0       110152       1  86.50  Southapton   \n",
       "245  female  33.0             0       110152       1  86.50  Southapton   \n",
       "195  female  16.0             0       110152       1  86.50  Southapton   \n",
       "289  female  18.0             2       110413       1  79.65  Southapton   \n",
       "291  female  39.0             2       110413       1  79.65  Southapton   \n",
       "..      ...   ...           ...          ...     ...    ...         ...   \n",
       "63   female  47.0             1  W.E.P. 5734       1  61.18  Southapton   \n",
       "62     male  46.0             1  W.E.P. 5734       1  61.18  Southapton   \n",
       "433    male  30.0             0    W/C 14208       2  10.50  Southapton   \n",
       "81     male  70.0             2    WE/P 5735       1  71.00  Southapton   \n",
       "82   female  36.0             2    WE/P 5735       1  71.00  Southapton   \n",
       "\n",
       "     survived  companion_type  \n",
       "67          1            solo  \n",
       "245         1            solo  \n",
       "195         1            solo  \n",
       "289         1  family/friends  \n",
       "291         1  family/friends  \n",
       "..        ...             ...  \n",
       "63          1  family/friends  \n",
       "62          0  family/friends  \n",
       "433         0            solo  \n",
       "81          0  family/friends  \n",
       "82          1  family/friends  \n",
       "\n",
       "[1309 rows x 12 columns]"
      ]
     },
     "execution_count": 99,
     "metadata": {},
     "output_type": "execute_result"
    }
   ],
   "source": [
    "df=df.sort_values(by=['ticket'])\n",
    "df"
   ]
  },
  {
   "cell_type": "code",
   "execution_count": 100,
   "id": "a3f62050",
   "metadata": {},
   "outputs": [],
   "source": [
    "df=df.reset_index(drop=True)"
   ]
  },
  {
   "cell_type": "markdown",
   "id": "1369275d",
   "metadata": {},
   "source": [
    "Create a new column called age_catagory (child,teen,adult,senior)"
   ]
  },
  {
   "cell_type": "code",
   "execution_count": 101,
   "id": "b41abd7d",
   "metadata": {},
   "outputs": [],
   "source": [
    "df['age_catagory']=pd.cut(df['age'],bins=[0,10,20,30,40],labels=['child','teen','adult','senior'],include_lowest=True)"
   ]
  },
  {
   "cell_type": "code",
   "execution_count": 102,
   "id": "42ec4203",
   "metadata": {},
   "outputs": [
    {
     "data": {
      "text/plain": [
       "Index(['Title', 'First_name', 'last_name', 'Gender', 'age', 'Family_count',\n",
       "       'ticket', 'pclass', 'fare', 'embarked', 'survived', 'companion_type',\n",
       "       'age_catagory'],\n",
       "      dtype='object')"
      ]
     },
     "execution_count": 102,
     "metadata": {},
     "output_type": "execute_result"
    }
   ],
   "source": [
    "df.columns"
   ]
  },
  {
   "cell_type": "code",
   "execution_count": 103,
   "id": "d7878863",
   "metadata": {},
   "outputs": [
    {
     "data": {
      "text/html": [
       "<div>\n",
       "<style scoped>\n",
       "    .dataframe tbody tr th:only-of-type {\n",
       "        vertical-align: middle;\n",
       "    }\n",
       "\n",
       "    .dataframe tbody tr th {\n",
       "        vertical-align: top;\n",
       "    }\n",
       "\n",
       "    .dataframe thead th {\n",
       "        text-align: right;\n",
       "    }\n",
       "</style>\n",
       "<table border=\"1\" class=\"dataframe\">\n",
       "  <thead>\n",
       "    <tr style=\"text-align: right;\">\n",
       "      <th></th>\n",
       "      <th>Title</th>\n",
       "      <th>First_name</th>\n",
       "      <th>last_name</th>\n",
       "      <th>Gender</th>\n",
       "      <th>age</th>\n",
       "      <th>Family_count</th>\n",
       "      <th>ticket</th>\n",
       "      <th>pclass</th>\n",
       "      <th>fare</th>\n",
       "      <th>embarked</th>\n",
       "      <th>survived</th>\n",
       "      <th>companion_type</th>\n",
       "      <th>age_catagory</th>\n",
       "    </tr>\n",
       "  </thead>\n",
       "  <tbody>\n",
       "    <tr>\n",
       "      <th>0</th>\n",
       "      <td>Miss</td>\n",
       "      <td>Gladys</td>\n",
       "      <td>Cherry</td>\n",
       "      <td>female</td>\n",
       "      <td>30.0</td>\n",
       "      <td>0</td>\n",
       "      <td>110152</td>\n",
       "      <td>1</td>\n",
       "      <td>86.50</td>\n",
       "      <td>Southapton</td>\n",
       "      <td>1</td>\n",
       "      <td>solo</td>\n",
       "      <td>adult</td>\n",
       "    </tr>\n",
       "    <tr>\n",
       "      <th>1</th>\n",
       "      <td>the Countess</td>\n",
       "      <td>of (Lucy Noel Martha Dyer-Edwards)</td>\n",
       "      <td>Rothes</td>\n",
       "      <td>female</td>\n",
       "      <td>33.0</td>\n",
       "      <td>0</td>\n",
       "      <td>110152</td>\n",
       "      <td>1</td>\n",
       "      <td>86.50</td>\n",
       "      <td>Southapton</td>\n",
       "      <td>1</td>\n",
       "      <td>solo</td>\n",
       "      <td>senior</td>\n",
       "    </tr>\n",
       "    <tr>\n",
       "      <th>2</th>\n",
       "      <td>Miss</td>\n",
       "      <td>Roberta</td>\n",
       "      <td>Maioni</td>\n",
       "      <td>female</td>\n",
       "      <td>16.0</td>\n",
       "      <td>0</td>\n",
       "      <td>110152</td>\n",
       "      <td>1</td>\n",
       "      <td>86.50</td>\n",
       "      <td>Southapton</td>\n",
       "      <td>1</td>\n",
       "      <td>solo</td>\n",
       "      <td>teen</td>\n",
       "    </tr>\n",
       "    <tr>\n",
       "      <th>3</th>\n",
       "      <td>Miss</td>\n",
       "      <td>Ruth</td>\n",
       "      <td>Taussig</td>\n",
       "      <td>female</td>\n",
       "      <td>18.0</td>\n",
       "      <td>2</td>\n",
       "      <td>110413</td>\n",
       "      <td>1</td>\n",
       "      <td>79.65</td>\n",
       "      <td>Southapton</td>\n",
       "      <td>1</td>\n",
       "      <td>family/friends</td>\n",
       "      <td>teen</td>\n",
       "    </tr>\n",
       "    <tr>\n",
       "      <th>4</th>\n",
       "      <td>Mrs</td>\n",
       "      <td>Emil (Tillie Mandelbaum)</td>\n",
       "      <td>Taussig</td>\n",
       "      <td>female</td>\n",
       "      <td>39.0</td>\n",
       "      <td>2</td>\n",
       "      <td>110413</td>\n",
       "      <td>1</td>\n",
       "      <td>79.65</td>\n",
       "      <td>Southapton</td>\n",
       "      <td>1</td>\n",
       "      <td>family/friends</td>\n",
       "      <td>senior</td>\n",
       "    </tr>\n",
       "    <tr>\n",
       "      <th>...</th>\n",
       "      <td>...</td>\n",
       "      <td>...</td>\n",
       "      <td>...</td>\n",
       "      <td>...</td>\n",
       "      <td>...</td>\n",
       "      <td>...</td>\n",
       "      <td>...</td>\n",
       "      <td>...</td>\n",
       "      <td>...</td>\n",
       "      <td>...</td>\n",
       "      <td>...</td>\n",
       "      <td>...</td>\n",
       "      <td>...</td>\n",
       "    </tr>\n",
       "    <tr>\n",
       "      <th>1304</th>\n",
       "      <td>Mrs</td>\n",
       "      <td>Herbert Fuller (Carrie Constance Toogood)</td>\n",
       "      <td>Chaffee</td>\n",
       "      <td>female</td>\n",
       "      <td>47.0</td>\n",
       "      <td>1</td>\n",
       "      <td>W.E.P. 5734</td>\n",
       "      <td>1</td>\n",
       "      <td>61.18</td>\n",
       "      <td>Southapton</td>\n",
       "      <td>1</td>\n",
       "      <td>family/friends</td>\n",
       "      <td>NaN</td>\n",
       "    </tr>\n",
       "    <tr>\n",
       "      <th>1305</th>\n",
       "      <td>Mr</td>\n",
       "      <td>Herbert Fuller</td>\n",
       "      <td>Chaffee</td>\n",
       "      <td>male</td>\n",
       "      <td>46.0</td>\n",
       "      <td>1</td>\n",
       "      <td>W.E.P. 5734</td>\n",
       "      <td>1</td>\n",
       "      <td>61.18</td>\n",
       "      <td>Southapton</td>\n",
       "      <td>0</td>\n",
       "      <td>family/friends</td>\n",
       "      <td>NaN</td>\n",
       "    </tr>\n",
       "    <tr>\n",
       "      <th>1306</th>\n",
       "      <td>Mr</td>\n",
       "      <td>Walter</td>\n",
       "      <td>Harris</td>\n",
       "      <td>male</td>\n",
       "      <td>30.0</td>\n",
       "      <td>0</td>\n",
       "      <td>W/C 14208</td>\n",
       "      <td>2</td>\n",
       "      <td>10.50</td>\n",
       "      <td>Southapton</td>\n",
       "      <td>0</td>\n",
       "      <td>solo</td>\n",
       "      <td>adult</td>\n",
       "    </tr>\n",
       "    <tr>\n",
       "      <th>1307</th>\n",
       "      <td>Capt</td>\n",
       "      <td>Edward Gifford</td>\n",
       "      <td>Crosby</td>\n",
       "      <td>male</td>\n",
       "      <td>70.0</td>\n",
       "      <td>2</td>\n",
       "      <td>WE/P 5735</td>\n",
       "      <td>1</td>\n",
       "      <td>71.00</td>\n",
       "      <td>Southapton</td>\n",
       "      <td>0</td>\n",
       "      <td>family/friends</td>\n",
       "      <td>NaN</td>\n",
       "    </tr>\n",
       "    <tr>\n",
       "      <th>1308</th>\n",
       "      <td>Miss</td>\n",
       "      <td>Harriet R</td>\n",
       "      <td>Crosby</td>\n",
       "      <td>female</td>\n",
       "      <td>36.0</td>\n",
       "      <td>2</td>\n",
       "      <td>WE/P 5735</td>\n",
       "      <td>1</td>\n",
       "      <td>71.00</td>\n",
       "      <td>Southapton</td>\n",
       "      <td>1</td>\n",
       "      <td>family/friends</td>\n",
       "      <td>senior</td>\n",
       "    </tr>\n",
       "  </tbody>\n",
       "</table>\n",
       "<p>1309 rows × 13 columns</p>\n",
       "</div>"
      ],
      "text/plain": [
       "             Title                                 First_name last_name  \\\n",
       "0             Miss                                     Gladys    Cherry   \n",
       "1     the Countess         of (Lucy Noel Martha Dyer-Edwards)    Rothes   \n",
       "2             Miss                                    Roberta    Maioni   \n",
       "3             Miss                                       Ruth   Taussig   \n",
       "4              Mrs                   Emil (Tillie Mandelbaum)   Taussig   \n",
       "...            ...                                        ...       ...   \n",
       "1304           Mrs  Herbert Fuller (Carrie Constance Toogood)   Chaffee   \n",
       "1305            Mr                             Herbert Fuller   Chaffee   \n",
       "1306            Mr                                     Walter    Harris   \n",
       "1307          Capt                             Edward Gifford    Crosby   \n",
       "1308          Miss                                  Harriet R    Crosby   \n",
       "\n",
       "      Gender   age  Family_count       ticket  pclass   fare    embarked  \\\n",
       "0     female  30.0             0       110152       1  86.50  Southapton   \n",
       "1     female  33.0             0       110152       1  86.50  Southapton   \n",
       "2     female  16.0             0       110152       1  86.50  Southapton   \n",
       "3     female  18.0             2       110413       1  79.65  Southapton   \n",
       "4     female  39.0             2       110413       1  79.65  Southapton   \n",
       "...      ...   ...           ...          ...     ...    ...         ...   \n",
       "1304  female  47.0             1  W.E.P. 5734       1  61.18  Southapton   \n",
       "1305    male  46.0             1  W.E.P. 5734       1  61.18  Southapton   \n",
       "1306    male  30.0             0    W/C 14208       2  10.50  Southapton   \n",
       "1307    male  70.0             2    WE/P 5735       1  71.00  Southapton   \n",
       "1308  female  36.0             2    WE/P 5735       1  71.00  Southapton   \n",
       "\n",
       "      survived  companion_type age_catagory  \n",
       "0            1            solo        adult  \n",
       "1            1            solo       senior  \n",
       "2            1            solo         teen  \n",
       "3            1  family/friends         teen  \n",
       "4            1  family/friends       senior  \n",
       "...        ...             ...          ...  \n",
       "1304         1  family/friends          NaN  \n",
       "1305         0  family/friends          NaN  \n",
       "1306         0            solo        adult  \n",
       "1307         0  family/friends          NaN  \n",
       "1308         1  family/friends       senior  \n",
       "\n",
       "[1309 rows x 13 columns]"
      ]
     },
     "execution_count": 103,
     "metadata": {},
     "output_type": "execute_result"
    }
   ],
   "source": [
    "df"
   ]
  },
  {
   "cell_type": "markdown",
   "id": "de96fc46",
   "metadata": {},
   "source": [
    "# Data analysis"
   ]
  },
  {
   "cell_type": "markdown",
   "id": "7a03b63e",
   "metadata": {},
   "source": [
    "1) Get the count of passengers"
   ]
  },
  {
   "cell_type": "code",
   "execution_count": 104,
   "id": "63acf2ec",
   "metadata": {},
   "outputs": [
    {
     "data": {
      "text/plain": [
       "np.int64(1309)"
      ]
     },
     "execution_count": 104,
     "metadata": {},
     "output_type": "execute_result"
    }
   ],
   "source": [
    "df['pclass'].count()"
   ]
  },
  {
   "cell_type": "markdown",
   "id": "cb1abbc8",
   "metadata": {},
   "source": [
    "2) Get the passengers details if their fare is 0 "
   ]
  },
  {
   "cell_type": "code",
   "execution_count": 105,
   "id": "33e9cf7d",
   "metadata": {},
   "outputs": [
    {
     "data": {
      "text/html": [
       "<div>\n",
       "<style scoped>\n",
       "    .dataframe tbody tr th:only-of-type {\n",
       "        vertical-align: middle;\n",
       "    }\n",
       "\n",
       "    .dataframe tbody tr th {\n",
       "        vertical-align: top;\n",
       "    }\n",
       "\n",
       "    .dataframe thead th {\n",
       "        text-align: right;\n",
       "    }\n",
       "</style>\n",
       "<table border=\"1\" class=\"dataframe\">\n",
       "  <thead>\n",
       "    <tr style=\"text-align: right;\">\n",
       "      <th></th>\n",
       "      <th>Title</th>\n",
       "      <th>First_name</th>\n",
       "      <th>last_name</th>\n",
       "      <th>Gender</th>\n",
       "      <th>age</th>\n",
       "      <th>Family_count</th>\n",
       "      <th>ticket</th>\n",
       "      <th>pclass</th>\n",
       "      <th>fare</th>\n",
       "      <th>embarked</th>\n",
       "      <th>survived</th>\n",
       "      <th>companion_type</th>\n",
       "      <th>age_catagory</th>\n",
       "    </tr>\n",
       "  </thead>\n",
       "  <tbody>\n",
       "    <tr>\n",
       "      <th>22</th>\n",
       "      <td>Mr</td>\n",
       "      <td>Thomas Jr</td>\n",
       "      <td>Andrews</td>\n",
       "      <td>male</td>\n",
       "      <td>39.0</td>\n",
       "      <td>0</td>\n",
       "      <td>112050</td>\n",
       "      <td>1</td>\n",
       "      <td>0.0</td>\n",
       "      <td>Southapton</td>\n",
       "      <td>0</td>\n",
       "      <td>solo</td>\n",
       "      <td>senior</td>\n",
       "    </tr>\n",
       "    <tr>\n",
       "      <th>23</th>\n",
       "      <td>Mr</td>\n",
       "      <td>Roderick Robert Crispin</td>\n",
       "      <td>Chisholm</td>\n",
       "      <td>male</td>\n",
       "      <td>28.0</td>\n",
       "      <td>0</td>\n",
       "      <td>112051</td>\n",
       "      <td>1</td>\n",
       "      <td>0.0</td>\n",
       "      <td>Southapton</td>\n",
       "      <td>0</td>\n",
       "      <td>solo</td>\n",
       "      <td>adult</td>\n",
       "    </tr>\n",
       "    <tr>\n",
       "      <th>24</th>\n",
       "      <td>Mr</td>\n",
       "      <td>William Henry Marsh</td>\n",
       "      <td>Parr</td>\n",
       "      <td>male</td>\n",
       "      <td>28.0</td>\n",
       "      <td>0</td>\n",
       "      <td>112052</td>\n",
       "      <td>1</td>\n",
       "      <td>0.0</td>\n",
       "      <td>Southapton</td>\n",
       "      <td>0</td>\n",
       "      <td>solo</td>\n",
       "      <td>adult</td>\n",
       "    </tr>\n",
       "    <tr>\n",
       "      <th>26</th>\n",
       "      <td>Mr</td>\n",
       "      <td>Joseph Bruce</td>\n",
       "      <td>Ismay</td>\n",
       "      <td>male</td>\n",
       "      <td>49.0</td>\n",
       "      <td>0</td>\n",
       "      <td>112058</td>\n",
       "      <td>1</td>\n",
       "      <td>0.0</td>\n",
       "      <td>Southapton</td>\n",
       "      <td>1</td>\n",
       "      <td>solo</td>\n",
       "      <td>NaN</td>\n",
       "    </tr>\n",
       "    <tr>\n",
       "      <th>27</th>\n",
       "      <td>Mr</td>\n",
       "      <td>Richard</td>\n",
       "      <td>Fry</td>\n",
       "      <td>male</td>\n",
       "      <td>28.0</td>\n",
       "      <td>0</td>\n",
       "      <td>112058</td>\n",
       "      <td>1</td>\n",
       "      <td>0.0</td>\n",
       "      <td>Southapton</td>\n",
       "      <td>0</td>\n",
       "      <td>solo</td>\n",
       "      <td>adult</td>\n",
       "    </tr>\n",
       "    <tr>\n",
       "      <th>28</th>\n",
       "      <td>Mr</td>\n",
       "      <td>William</td>\n",
       "      <td>Harrison</td>\n",
       "      <td>male</td>\n",
       "      <td>40.0</td>\n",
       "      <td>0</td>\n",
       "      <td>112059</td>\n",
       "      <td>1</td>\n",
       "      <td>0.0</td>\n",
       "      <td>Southapton</td>\n",
       "      <td>0</td>\n",
       "      <td>solo</td>\n",
       "      <td>senior</td>\n",
       "    </tr>\n",
       "    <tr>\n",
       "      <th>206</th>\n",
       "      <td>Jonkheer</td>\n",
       "      <td>John George</td>\n",
       "      <td>Reuchlin</td>\n",
       "      <td>male</td>\n",
       "      <td>38.0</td>\n",
       "      <td>0</td>\n",
       "      <td>19972</td>\n",
       "      <td>1</td>\n",
       "      <td>0.0</td>\n",
       "      <td>Southapton</td>\n",
       "      <td>0</td>\n",
       "      <td>solo</td>\n",
       "      <td>senior</td>\n",
       "    </tr>\n",
       "    <tr>\n",
       "      <th>278</th>\n",
       "      <td>Mr</td>\n",
       "      <td>Francis \"Frank\"</td>\n",
       "      <td>Parkes</td>\n",
       "      <td>male</td>\n",
       "      <td>28.0</td>\n",
       "      <td>0</td>\n",
       "      <td>239853</td>\n",
       "      <td>2</td>\n",
       "      <td>0.0</td>\n",
       "      <td>Southapton</td>\n",
       "      <td>0</td>\n",
       "      <td>solo</td>\n",
       "      <td>adult</td>\n",
       "    </tr>\n",
       "    <tr>\n",
       "      <th>279</th>\n",
       "      <td>Mr</td>\n",
       "      <td>Alfred Fleming</td>\n",
       "      <td>Cunningham</td>\n",
       "      <td>male</td>\n",
       "      <td>28.0</td>\n",
       "      <td>0</td>\n",
       "      <td>239853</td>\n",
       "      <td>2</td>\n",
       "      <td>0.0</td>\n",
       "      <td>Southapton</td>\n",
       "      <td>0</td>\n",
       "      <td>solo</td>\n",
       "      <td>adult</td>\n",
       "    </tr>\n",
       "    <tr>\n",
       "      <th>280</th>\n",
       "      <td>Mr</td>\n",
       "      <td>William</td>\n",
       "      <td>Campbell</td>\n",
       "      <td>male</td>\n",
       "      <td>28.0</td>\n",
       "      <td>0</td>\n",
       "      <td>239853</td>\n",
       "      <td>2</td>\n",
       "      <td>0.0</td>\n",
       "      <td>Southapton</td>\n",
       "      <td>0</td>\n",
       "      <td>solo</td>\n",
       "      <td>adult</td>\n",
       "    </tr>\n",
       "    <tr>\n",
       "      <th>281</th>\n",
       "      <td>Mr</td>\n",
       "      <td>Anthony Wood \"Archie\"</td>\n",
       "      <td>Frost</td>\n",
       "      <td>male</td>\n",
       "      <td>28.0</td>\n",
       "      <td>0</td>\n",
       "      <td>239854</td>\n",
       "      <td>2</td>\n",
       "      <td>0.0</td>\n",
       "      <td>Southapton</td>\n",
       "      <td>0</td>\n",
       "      <td>solo</td>\n",
       "      <td>adult</td>\n",
       "    </tr>\n",
       "    <tr>\n",
       "      <th>282</th>\n",
       "      <td>Mr</td>\n",
       "      <td>Robert J</td>\n",
       "      <td>Knight</td>\n",
       "      <td>male</td>\n",
       "      <td>28.0</td>\n",
       "      <td>0</td>\n",
       "      <td>239855</td>\n",
       "      <td>2</td>\n",
       "      <td>0.0</td>\n",
       "      <td>Southapton</td>\n",
       "      <td>0</td>\n",
       "      <td>solo</td>\n",
       "      <td>adult</td>\n",
       "    </tr>\n",
       "    <tr>\n",
       "      <th>283</th>\n",
       "      <td>Mr</td>\n",
       "      <td>Ennis Hastings</td>\n",
       "      <td>Watson</td>\n",
       "      <td>male</td>\n",
       "      <td>28.0</td>\n",
       "      <td>0</td>\n",
       "      <td>239856</td>\n",
       "      <td>2</td>\n",
       "      <td>0.0</td>\n",
       "      <td>Southapton</td>\n",
       "      <td>0</td>\n",
       "      <td>solo</td>\n",
       "      <td>adult</td>\n",
       "    </tr>\n",
       "    <tr>\n",
       "      <th>1089</th>\n",
       "      <td>Mr</td>\n",
       "      <td>William Cahoone Jr</td>\n",
       "      <td>Johnson</td>\n",
       "      <td>male</td>\n",
       "      <td>19.0</td>\n",
       "      <td>0</td>\n",
       "      <td>LINE</td>\n",
       "      <td>3</td>\n",
       "      <td>0.0</td>\n",
       "      <td>Southapton</td>\n",
       "      <td>0</td>\n",
       "      <td>solo</td>\n",
       "      <td>teen</td>\n",
       "    </tr>\n",
       "    <tr>\n",
       "      <th>1090</th>\n",
       "      <td>Mr</td>\n",
       "      <td>Alfred</td>\n",
       "      <td>Johnson</td>\n",
       "      <td>male</td>\n",
       "      <td>49.0</td>\n",
       "      <td>0</td>\n",
       "      <td>LINE</td>\n",
       "      <td>3</td>\n",
       "      <td>0.0</td>\n",
       "      <td>Southapton</td>\n",
       "      <td>0</td>\n",
       "      <td>solo</td>\n",
       "      <td>NaN</td>\n",
       "    </tr>\n",
       "    <tr>\n",
       "      <th>1091</th>\n",
       "      <td>Mr</td>\n",
       "      <td>Lionel</td>\n",
       "      <td>Leonard</td>\n",
       "      <td>male</td>\n",
       "      <td>36.0</td>\n",
       "      <td>0</td>\n",
       "      <td>LINE</td>\n",
       "      <td>3</td>\n",
       "      <td>0.0</td>\n",
       "      <td>Southapton</td>\n",
       "      <td>0</td>\n",
       "      <td>solo</td>\n",
       "      <td>senior</td>\n",
       "    </tr>\n",
       "    <tr>\n",
       "      <th>1092</th>\n",
       "      <td>Mr</td>\n",
       "      <td>William Henry</td>\n",
       "      <td>Tornquist</td>\n",
       "      <td>male</td>\n",
       "      <td>25.0</td>\n",
       "      <td>0</td>\n",
       "      <td>LINE</td>\n",
       "      <td>3</td>\n",
       "      <td>0.0</td>\n",
       "      <td>Southapton</td>\n",
       "      <td>1</td>\n",
       "      <td>solo</td>\n",
       "      <td>adult</td>\n",
       "    </tr>\n",
       "  </tbody>\n",
       "</table>\n",
       "</div>"
      ],
      "text/plain": [
       "         Title               First_name   last_name Gender   age  \\\n",
       "22          Mr                Thomas Jr     Andrews   male  39.0   \n",
       "23          Mr  Roderick Robert Crispin    Chisholm   male  28.0   \n",
       "24          Mr      William Henry Marsh        Parr   male  28.0   \n",
       "26          Mr             Joseph Bruce       Ismay   male  49.0   \n",
       "27          Mr                  Richard         Fry   male  28.0   \n",
       "28          Mr                  William    Harrison   male  40.0   \n",
       "206   Jonkheer              John George    Reuchlin   male  38.0   \n",
       "278         Mr          Francis \"Frank\"      Parkes   male  28.0   \n",
       "279         Mr           Alfred Fleming  Cunningham   male  28.0   \n",
       "280         Mr                  William    Campbell   male  28.0   \n",
       "281         Mr    Anthony Wood \"Archie\"       Frost   male  28.0   \n",
       "282         Mr                 Robert J      Knight   male  28.0   \n",
       "283         Mr           Ennis Hastings      Watson   male  28.0   \n",
       "1089        Mr       William Cahoone Jr     Johnson   male  19.0   \n",
       "1090        Mr                   Alfred     Johnson   male  49.0   \n",
       "1091        Mr                   Lionel     Leonard   male  36.0   \n",
       "1092        Mr            William Henry   Tornquist   male  25.0   \n",
       "\n",
       "      Family_count  ticket  pclass  fare    embarked  survived companion_type  \\\n",
       "22               0  112050       1   0.0  Southapton         0           solo   \n",
       "23               0  112051       1   0.0  Southapton         0           solo   \n",
       "24               0  112052       1   0.0  Southapton         0           solo   \n",
       "26               0  112058       1   0.0  Southapton         1           solo   \n",
       "27               0  112058       1   0.0  Southapton         0           solo   \n",
       "28               0  112059       1   0.0  Southapton         0           solo   \n",
       "206              0   19972       1   0.0  Southapton         0           solo   \n",
       "278              0  239853       2   0.0  Southapton         0           solo   \n",
       "279              0  239853       2   0.0  Southapton         0           solo   \n",
       "280              0  239853       2   0.0  Southapton         0           solo   \n",
       "281              0  239854       2   0.0  Southapton         0           solo   \n",
       "282              0  239855       2   0.0  Southapton         0           solo   \n",
       "283              0  239856       2   0.0  Southapton         0           solo   \n",
       "1089             0    LINE       3   0.0  Southapton         0           solo   \n",
       "1090             0    LINE       3   0.0  Southapton         0           solo   \n",
       "1091             0    LINE       3   0.0  Southapton         0           solo   \n",
       "1092             0    LINE       3   0.0  Southapton         1           solo   \n",
       "\n",
       "     age_catagory  \n",
       "22         senior  \n",
       "23          adult  \n",
       "24          adult  \n",
       "26            NaN  \n",
       "27          adult  \n",
       "28         senior  \n",
       "206        senior  \n",
       "278         adult  \n",
       "279         adult  \n",
       "280         adult  \n",
       "281         adult  \n",
       "282         adult  \n",
       "283         adult  \n",
       "1089         teen  \n",
       "1090          NaN  \n",
       "1091       senior  \n",
       "1092        adult  "
      ]
     },
     "execution_count": 105,
     "metadata": {},
     "output_type": "execute_result"
    }
   ],
   "source": [
    "# df.loc[df['fare']==0]\n",
    "\n",
    "df.query(\"fare==0\")"
   ]
  },
  {
   "cell_type": "markdown",
   "id": "c07e1b1c",
   "metadata": {},
   "source": [
    "3) Get the gender wise passengers count,total_fare and survival rate"
   ]
  },
  {
   "cell_type": "code",
   "execution_count": 106,
   "id": "2e70be3a",
   "metadata": {},
   "outputs": [
    {
     "data": {
      "text/html": [
       "<div>\n",
       "<style scoped>\n",
       "    .dataframe tbody tr th:only-of-type {\n",
       "        vertical-align: middle;\n",
       "    }\n",
       "\n",
       "    .dataframe tbody tr th {\n",
       "        vertical-align: top;\n",
       "    }\n",
       "\n",
       "    .dataframe thead th {\n",
       "        text-align: right;\n",
       "    }\n",
       "</style>\n",
       "<table border=\"1\" class=\"dataframe\">\n",
       "  <thead>\n",
       "    <tr style=\"text-align: right;\">\n",
       "      <th></th>\n",
       "      <th>Gender</th>\n",
       "      <th>fare</th>\n",
       "      <th>survived</th>\n",
       "    </tr>\n",
       "    <tr>\n",
       "      <th>Gender</th>\n",
       "      <th></th>\n",
       "      <th></th>\n",
       "      <th></th>\n",
       "    </tr>\n",
       "  </thead>\n",
       "  <tbody>\n",
       "    <tr>\n",
       "      <th>female</th>\n",
       "      <td>466</td>\n",
       "      <td>21528.36</td>\n",
       "      <td>0.727468</td>\n",
       "    </tr>\n",
       "    <tr>\n",
       "      <th>male</th>\n",
       "      <td>843</td>\n",
       "      <td>22036.78</td>\n",
       "      <td>0.190985</td>\n",
       "    </tr>\n",
       "  </tbody>\n",
       "</table>\n",
       "</div>"
      ],
      "text/plain": [
       "        Gender      fare  survived\n",
       "Gender                            \n",
       "female     466  21528.36  0.727468\n",
       "male       843  22036.78  0.190985"
      ]
     },
     "execution_count": 106,
     "metadata": {},
     "output_type": "execute_result"
    }
   ],
   "source": [
    "df.groupby('Gender').agg({'Gender':'count','fare':'sum','survived':'mean'})"
   ]
  },
  {
   "cell_type": "markdown",
   "id": "94b48bff",
   "metadata": {},
   "source": [
    "4) Get the pclass wise passenger count,total_fare and survival_rate "
   ]
  },
  {
   "cell_type": "code",
   "execution_count": 107,
   "id": "9d36f65c",
   "metadata": {},
   "outputs": [
    {
     "data": {
      "text/html": [
       "<div>\n",
       "<style scoped>\n",
       "    .dataframe tbody tr th:only-of-type {\n",
       "        vertical-align: middle;\n",
       "    }\n",
       "\n",
       "    .dataframe tbody tr th {\n",
       "        vertical-align: top;\n",
       "    }\n",
       "\n",
       "    .dataframe thead th {\n",
       "        text-align: right;\n",
       "    }\n",
       "</style>\n",
       "<table border=\"1\" class=\"dataframe\">\n",
       "  <thead>\n",
       "    <tr style=\"text-align: right;\">\n",
       "      <th></th>\n",
       "      <th>pclass</th>\n",
       "      <th>fare</th>\n",
       "      <th>survived</th>\n",
       "    </tr>\n",
       "    <tr>\n",
       "      <th>pclass</th>\n",
       "      <th></th>\n",
       "      <th></th>\n",
       "      <th></th>\n",
       "    </tr>\n",
       "  </thead>\n",
       "  <tbody>\n",
       "    <tr>\n",
       "      <th>1</th>\n",
       "      <td>323</td>\n",
       "      <td>28265.42</td>\n",
       "      <td>0.619195</td>\n",
       "    </tr>\n",
       "    <tr>\n",
       "      <th>2</th>\n",
       "      <td>277</td>\n",
       "      <td>5866.65</td>\n",
       "      <td>0.429603</td>\n",
       "    </tr>\n",
       "    <tr>\n",
       "      <th>3</th>\n",
       "      <td>709</td>\n",
       "      <td>9433.07</td>\n",
       "      <td>0.255289</td>\n",
       "    </tr>\n",
       "  </tbody>\n",
       "</table>\n",
       "</div>"
      ],
      "text/plain": [
       "        pclass      fare  survived\n",
       "pclass                            \n",
       "1          323  28265.42  0.619195\n",
       "2          277   5866.65  0.429603\n",
       "3          709   9433.07  0.255289"
      ]
     },
     "execution_count": 107,
     "metadata": {},
     "output_type": "execute_result"
    }
   ],
   "source": [
    "df.groupby(['pclass']).agg({'pclass':'count','fare':'sum','survived':'mean'})"
   ]
  },
  {
   "cell_type": "markdown",
   "id": "d2004f59",
   "metadata": {},
   "source": [
    "5) Get the gender wise highest and lowest fare"
   ]
  },
  {
   "cell_type": "code",
   "execution_count": 108,
   "id": "dcb4929f",
   "metadata": {},
   "outputs": [
    {
     "data": {
      "text/html": [
       "<div>\n",
       "<style scoped>\n",
       "    .dataframe tbody tr th:only-of-type {\n",
       "        vertical-align: middle;\n",
       "    }\n",
       "\n",
       "    .dataframe tbody tr th {\n",
       "        vertical-align: top;\n",
       "    }\n",
       "\n",
       "    .dataframe thead tr th {\n",
       "        text-align: left;\n",
       "    }\n",
       "\n",
       "    .dataframe thead tr:last-of-type th {\n",
       "        text-align: right;\n",
       "    }\n",
       "</style>\n",
       "<table border=\"1\" class=\"dataframe\">\n",
       "  <thead>\n",
       "    <tr>\n",
       "      <th></th>\n",
       "      <th colspan=\"2\" halign=\"left\">fare</th>\n",
       "    </tr>\n",
       "    <tr>\n",
       "      <th></th>\n",
       "      <th>max</th>\n",
       "      <th>min</th>\n",
       "    </tr>\n",
       "    <tr>\n",
       "      <th>Gender</th>\n",
       "      <th></th>\n",
       "      <th></th>\n",
       "    </tr>\n",
       "  </thead>\n",
       "  <tbody>\n",
       "    <tr>\n",
       "      <th>female</th>\n",
       "      <td>512.33</td>\n",
       "      <td>6.75</td>\n",
       "    </tr>\n",
       "    <tr>\n",
       "      <th>male</th>\n",
       "      <td>512.33</td>\n",
       "      <td>0.00</td>\n",
       "    </tr>\n",
       "  </tbody>\n",
       "</table>\n",
       "</div>"
      ],
      "text/plain": [
       "          fare      \n",
       "           max   min\n",
       "Gender              \n",
       "female  512.33  6.75\n",
       "male    512.33  0.00"
      ]
     },
     "execution_count": 108,
     "metadata": {},
     "output_type": "execute_result"
    }
   ],
   "source": [
    "df.groupby('Gender').agg({'fare':['max','min']})"
   ]
  },
  {
   "cell_type": "markdown",
   "id": "15f5ed9d",
   "metadata": {},
   "source": [
    "6) Get the no_of_unique values from ticket columns."
   ]
  },
  {
   "cell_type": "code",
   "execution_count": 109,
   "id": "793cd77e",
   "metadata": {},
   "outputs": [
    {
     "data": {
      "text/plain": [
       "929"
      ]
     },
     "execution_count": 109,
     "metadata": {},
     "output_type": "execute_result"
    }
   ],
   "source": [
    "df['ticket'].nunique()"
   ]
  },
  {
   "cell_type": "markdown",
   "id": "3331ccaa",
   "metadata": {},
   "source": [
    "7) Get the ticket wise no_of_passengers"
   ]
  },
  {
   "cell_type": "code",
   "execution_count": 110,
   "id": "e58708b0",
   "metadata": {},
   "outputs": [
    {
     "data": {
      "text/html": [
       "<div>\n",
       "<style scoped>\n",
       "    .dataframe tbody tr th:only-of-type {\n",
       "        vertical-align: middle;\n",
       "    }\n",
       "\n",
       "    .dataframe tbody tr th {\n",
       "        vertical-align: top;\n",
       "    }\n",
       "\n",
       "    .dataframe thead th {\n",
       "        text-align: right;\n",
       "    }\n",
       "</style>\n",
       "<table border=\"1\" class=\"dataframe\">\n",
       "  <thead>\n",
       "    <tr style=\"text-align: right;\">\n",
       "      <th></th>\n",
       "      <th>ticket</th>\n",
       "    </tr>\n",
       "    <tr>\n",
       "      <th>ticket</th>\n",
       "      <th></th>\n",
       "    </tr>\n",
       "  </thead>\n",
       "  <tbody>\n",
       "    <tr>\n",
       "      <th>110152</th>\n",
       "      <td>3</td>\n",
       "    </tr>\n",
       "    <tr>\n",
       "      <th>110413</th>\n",
       "      <td>3</td>\n",
       "    </tr>\n",
       "    <tr>\n",
       "      <th>110465</th>\n",
       "      <td>2</td>\n",
       "    </tr>\n",
       "    <tr>\n",
       "      <th>110469</th>\n",
       "      <td>1</td>\n",
       "    </tr>\n",
       "    <tr>\n",
       "      <th>110489</th>\n",
       "      <td>1</td>\n",
       "    </tr>\n",
       "    <tr>\n",
       "      <th>...</th>\n",
       "      <td>...</td>\n",
       "    </tr>\n",
       "    <tr>\n",
       "      <th>W./C. 6608</th>\n",
       "      <td>5</td>\n",
       "    </tr>\n",
       "    <tr>\n",
       "      <th>W./C. 6609</th>\n",
       "      <td>1</td>\n",
       "    </tr>\n",
       "    <tr>\n",
       "      <th>W.E.P. 5734</th>\n",
       "      <td>2</td>\n",
       "    </tr>\n",
       "    <tr>\n",
       "      <th>W/C 14208</th>\n",
       "      <td>1</td>\n",
       "    </tr>\n",
       "    <tr>\n",
       "      <th>WE/P 5735</th>\n",
       "      <td>2</td>\n",
       "    </tr>\n",
       "  </tbody>\n",
       "</table>\n",
       "<p>929 rows × 1 columns</p>\n",
       "</div>"
      ],
      "text/plain": [
       "             ticket\n",
       "ticket             \n",
       "110152            3\n",
       "110413            3\n",
       "110465            2\n",
       "110469            1\n",
       "110489            1\n",
       "...             ...\n",
       "W./C. 6608        5\n",
       "W./C. 6609        1\n",
       "W.E.P. 5734       2\n",
       "W/C 14208         1\n",
       "WE/P 5735         2\n",
       "\n",
       "[929 rows x 1 columns]"
      ]
     },
     "execution_count": 110,
     "metadata": {},
     "output_type": "execute_result"
    }
   ],
   "source": [
    "df.groupby('ticket').agg({'ticket':'count'})"
   ]
  },
  {
   "cell_type": "markdown",
   "id": "577c95d9",
   "metadata": {},
   "source": [
    "8) Get the survived and non servived passengers count"
   ]
  },
  {
   "cell_type": "code",
   "execution_count": 111,
   "id": "fba4f191",
   "metadata": {},
   "outputs": [
    {
     "data": {
      "text/html": [
       "<div>\n",
       "<style scoped>\n",
       "    .dataframe tbody tr th:only-of-type {\n",
       "        vertical-align: middle;\n",
       "    }\n",
       "\n",
       "    .dataframe tbody tr th {\n",
       "        vertical-align: top;\n",
       "    }\n",
       "\n",
       "    .dataframe thead th {\n",
       "        text-align: right;\n",
       "    }\n",
       "</style>\n",
       "<table border=\"1\" class=\"dataframe\">\n",
       "  <thead>\n",
       "    <tr style=\"text-align: right;\">\n",
       "      <th></th>\n",
       "      <th>survived</th>\n",
       "    </tr>\n",
       "    <tr>\n",
       "      <th>survived</th>\n",
       "      <th></th>\n",
       "    </tr>\n",
       "  </thead>\n",
       "  <tbody>\n",
       "    <tr>\n",
       "      <th>0</th>\n",
       "      <td>809</td>\n",
       "    </tr>\n",
       "    <tr>\n",
       "      <th>1</th>\n",
       "      <td>500</td>\n",
       "    </tr>\n",
       "  </tbody>\n",
       "</table>\n",
       "</div>"
      ],
      "text/plain": [
       "          survived\n",
       "survived          \n",
       "0              809\n",
       "1              500"
      ]
     },
     "execution_count": 111,
     "metadata": {},
     "output_type": "execute_result"
    }
   ],
   "source": [
    "df.groupby('survived').agg({'survived':'count'})"
   ]
  },
  {
   "cell_type": "markdown",
   "id": "876f5de7",
   "metadata": {},
   "source": [
    "9) Get the gender wise survival rate "
   ]
  },
  {
   "cell_type": "code",
   "execution_count": 112,
   "id": "9c5eb581",
   "metadata": {},
   "outputs": [
    {
     "data": {
      "text/html": [
       "<div>\n",
       "<style scoped>\n",
       "    .dataframe tbody tr th:only-of-type {\n",
       "        vertical-align: middle;\n",
       "    }\n",
       "\n",
       "    .dataframe tbody tr th {\n",
       "        vertical-align: top;\n",
       "    }\n",
       "\n",
       "    .dataframe thead th {\n",
       "        text-align: right;\n",
       "    }\n",
       "</style>\n",
       "<table border=\"1\" class=\"dataframe\">\n",
       "  <thead>\n",
       "    <tr style=\"text-align: right;\">\n",
       "      <th></th>\n",
       "      <th>survived</th>\n",
       "    </tr>\n",
       "    <tr>\n",
       "      <th>Gender</th>\n",
       "      <th></th>\n",
       "    </tr>\n",
       "  </thead>\n",
       "  <tbody>\n",
       "    <tr>\n",
       "      <th>female</th>\n",
       "      <td>0.727468</td>\n",
       "    </tr>\n",
       "    <tr>\n",
       "      <th>male</th>\n",
       "      <td>0.190985</td>\n",
       "    </tr>\n",
       "  </tbody>\n",
       "</table>\n",
       "</div>"
      ],
      "text/plain": [
       "        survived\n",
       "Gender          \n",
       "female  0.727468\n",
       "male    0.190985"
      ]
     },
     "execution_count": 112,
     "metadata": {},
     "output_type": "execute_result"
    }
   ],
   "source": [
    "df.groupby('Gender').agg({'survived':'mean'})"
   ]
  },
  {
   "cell_type": "code",
   "execution_count": 113,
   "id": "7fcffb2b",
   "metadata": {},
   "outputs": [
    {
     "data": {
      "text/plain": [
       "Index(['Title', 'First_name', 'last_name', 'Gender', 'age', 'Family_count',\n",
       "       'ticket', 'pclass', 'fare', 'embarked', 'survived', 'companion_type',\n",
       "       'age_catagory'],\n",
       "      dtype='object')"
      ]
     },
     "execution_count": 113,
     "metadata": {},
     "output_type": "execute_result"
    }
   ],
   "source": [
    "df.columns"
   ]
  },
  {
   "cell_type": "markdown",
   "id": "b7f223b9",
   "metadata": {},
   "source": [
    "10) Get the correlation for the numerical columns"
   ]
  },
  {
   "cell_type": "code",
   "execution_count": 114,
   "id": "20520809",
   "metadata": {},
   "outputs": [
    {
     "data": {
      "text/html": [
       "<div>\n",
       "<style scoped>\n",
       "    .dataframe tbody tr th:only-of-type {\n",
       "        vertical-align: middle;\n",
       "    }\n",
       "\n",
       "    .dataframe tbody tr th {\n",
       "        vertical-align: top;\n",
       "    }\n",
       "\n",
       "    .dataframe thead th {\n",
       "        text-align: right;\n",
       "    }\n",
       "</style>\n",
       "<table border=\"1\" class=\"dataframe\">\n",
       "  <thead>\n",
       "    <tr style=\"text-align: right;\">\n",
       "      <th></th>\n",
       "      <th>age</th>\n",
       "      <th>Family_count</th>\n",
       "      <th>pclass</th>\n",
       "      <th>fare</th>\n",
       "      <th>survived</th>\n",
       "    </tr>\n",
       "  </thead>\n",
       "  <tbody>\n",
       "    <tr>\n",
       "      <th>age</th>\n",
       "      <td>1.000000</td>\n",
       "      <td>-0.193742</td>\n",
       "      <td>-0.377908</td>\n",
       "      <td>0.178180</td>\n",
       "      <td>-0.043817</td>\n",
       "    </tr>\n",
       "    <tr>\n",
       "      <th>Family_count</th>\n",
       "      <td>-0.193742</td>\n",
       "      <td>1.000000</td>\n",
       "      <td>0.050027</td>\n",
       "      <td>0.226613</td>\n",
       "      <td>0.026876</td>\n",
       "    </tr>\n",
       "    <tr>\n",
       "      <th>pclass</th>\n",
       "      <td>-0.377908</td>\n",
       "      <td>0.050027</td>\n",
       "      <td>1.000000</td>\n",
       "      <td>-0.558681</td>\n",
       "      <td>-0.312469</td>\n",
       "    </tr>\n",
       "    <tr>\n",
       "      <th>fare</th>\n",
       "      <td>0.178180</td>\n",
       "      <td>0.226613</td>\n",
       "      <td>-0.558681</td>\n",
       "      <td>1.000000</td>\n",
       "      <td>0.244414</td>\n",
       "    </tr>\n",
       "    <tr>\n",
       "      <th>survived</th>\n",
       "      <td>-0.043817</td>\n",
       "      <td>0.026876</td>\n",
       "      <td>-0.312469</td>\n",
       "      <td>0.244414</td>\n",
       "      <td>1.000000</td>\n",
       "    </tr>\n",
       "  </tbody>\n",
       "</table>\n",
       "</div>"
      ],
      "text/plain": [
       "                   age  Family_count    pclass      fare  survived\n",
       "age           1.000000     -0.193742 -0.377908  0.178180 -0.043817\n",
       "Family_count -0.193742      1.000000  0.050027  0.226613  0.026876\n",
       "pclass       -0.377908      0.050027  1.000000 -0.558681 -0.312469\n",
       "fare          0.178180      0.226613 -0.558681  1.000000  0.244414\n",
       "survived     -0.043817      0.026876 -0.312469  0.244414  1.000000"
      ]
     },
     "execution_count": 114,
     "metadata": {},
     "output_type": "execute_result"
    }
   ],
   "source": [
    "df.corr(numeric_only=True)"
   ]
  },
  {
   "cell_type": "markdown",
   "id": "67908e5d",
   "metadata": {},
   "source": [
    "11) Get the pclass which has the highest survival rate"
   ]
  },
  {
   "cell_type": "code",
   "execution_count": 115,
   "id": "d8f0c595",
   "metadata": {},
   "outputs": [
    {
     "data": {
      "text/plain": [
       "np.int64(1)"
      ]
     },
     "execution_count": 115,
     "metadata": {},
     "output_type": "execute_result"
    }
   ],
   "source": [
    "df.groupby('pclass')['survived'].mean().idxmax()"
   ]
  },
  {
   "cell_type": "markdown",
   "id": "6acd00fa",
   "metadata": {},
   "source": [
    "# PLOTS"
   ]
  },
  {
   "cell_type": "markdown",
   "id": "36fba267",
   "metadata": {},
   "source": [
    "1) Plot the total_count of male and female"
   ]
  },
  {
   "cell_type": "code",
   "execution_count": 116,
   "id": "3420c235",
   "metadata": {},
   "outputs": [
    {
     "data": {
      "image/png": "[encoded data removed]",
      "text/plain": [
       "<Figure size 400x300 with 1 Axes>"
      ]
     },
     "metadata": {},
     "output_type": "display_data"
    }
   ],
   "source": [
    "plt.figure(figsize=(4,3))\n",
    "sns.countplot(data=df,x='Gender')\n",
    "plt.title(\"Count of gender distribution\")\n",
    "plt.show()"
   ]
  },
  {
   "cell_type": "markdown",
   "id": "feddba66",
   "metadata": {},
   "source": [
    "2) Plot the total_count of male and female in each passenger class"
   ]
  },
  {
   "cell_type": "code",
   "execution_count": 117,
   "id": "fe0a69e7",
   "metadata": {},
   "outputs": [
    {
     "data": {
      "image/png": "[encoded data removed]",
      "text/plain": [
       "<Figure size 400x300 with 1 Axes>"
      ]
     },
     "metadata": {},
     "output_type": "display_data"
    }
   ],
   "source": [
    "plt.figure(figsize=(4,3))\n",
    "sns.countplot(data=df,hue='Gender',x='pclass')\n",
    "plt.title(\"Count of gender distribution for each pclass\")\n",
    "plt.show()\n"
   ]
  },
  {
   "cell_type": "markdown",
   "id": "3262f534",
   "metadata": {},
   "source": [
    "3) Plot the survivied and non survived count for each gender"
   ]
  },
  {
   "cell_type": "code",
   "execution_count": 118,
   "id": "7003bdac",
   "metadata": {},
   "outputs": [
    {
     "data": {
      "image/png": "[encoded data removed]",
      "text/plain": [
       "<Figure size 400x300 with 1 Axes>"
      ]
     },
     "metadata": {},
     "output_type": "display_data"
    }
   ],
   "source": [
    "plt.figure(figsize=(4,3))\n",
    "sns.countplot(data=df,x='Gender',hue='survived')\n",
    "plt.title(\"survivied and non survived count for each gender\")\n",
    "plt.show()"
   ]
  },
  {
   "cell_type": "markdown",
   "id": "fa7dd33a",
   "metadata": {},
   "source": [
    "4) Plot the distribution of fare"
   ]
  },
  {
   "cell_type": "markdown",
   "id": "488939aa",
   "metadata": {},
   "source": [
    "Note: Distribution we can use kde or histogram"
   ]
  },
  {
   "cell_type": "code",
   "execution_count": 119,
   "id": "a0919aa6",
   "metadata": {},
   "outputs": [
    {
     "data": {
      "image/png": "[encoded data removed]",
      "text/plain": [
       "<Figure size 400x300 with 1 Axes>"
      ]
     },
     "metadata": {},
     "output_type": "display_data"
    }
   ],
   "source": [
    "plt.figure(figsize=(4,3))\n",
    "sns.kdeplot(data=df,x='fare')\n",
    "plt.title(\"Distribution of fares\")\n",
    "plt.show()"
   ]
  },
  {
   "cell_type": "markdown",
   "id": "6cf95e66",
   "metadata": {},
   "source": [
    "5) Plot the distribution of age"
   ]
  },
  {
   "cell_type": "code",
   "execution_count": 120,
   "id": "67fe1af0",
   "metadata": {},
   "outputs": [
    {
     "data": {
      "image/png": "[encoded data removed]",
      "text/plain": [
       "<Figure size 400x300 with 1 Axes>"
      ]
     },
     "metadata": {},
     "output_type": "display_data"
    }
   ],
   "source": [
    "plt.figure(figsize=(4,3))\n",
    "sns.histplot(data=df,x='age')\n",
    "plt.title(\"Distribution of age\")\n",
    "plt.show()"
   ]
  },
  {
   "cell_type": "markdown",
   "id": "e2c636f5",
   "metadata": {},
   "source": [
    "Note: For percentage and propotion we can use pie chart"
   ]
  },
  {
   "cell_type": "markdown",
   "id": "74923a50",
   "metadata": {},
   "source": [
    "6) Plot the percentage of age_catagory"
   ]
  },
  {
   "cell_type": "code",
   "execution_count": 121,
   "id": "66bbcb95",
   "metadata": {},
   "outputs": [],
   "source": [
    "val=df['age_catagory'].value_counts().values\n",
    "ind=df['age_catagory'].value_counts().index"
   ]
  },
  {
   "cell_type": "code",
   "execution_count": 122,
   "id": "ef970a84",
   "metadata": {},
   "outputs": [
    {
     "data": {
      "image/png": "[encoded data removed]",
      "text/plain": [
       "<Figure size 600x400 with 1 Axes>"
      ]
     },
     "metadata": {},
     "output_type": "display_data"
    }
   ],
   "source": [
    "plt.figure(figsize=(6,4))\n",
    "plt.pie(x=val,labels=ind)\n",
    "plt.show()"
   ]
  },
  {
   "cell_type": "markdown",
   "id": "7f4416da",
   "metadata": {},
   "source": [
    "7) Plot the total_fare of each pclass,gender"
   ]
  },
  {
   "cell_type": "code",
   "execution_count": 123,
   "id": "7bdf2197",
   "metadata": {},
   "outputs": [
    {
     "data": {
      "image/png": "[encoded data removed]",
      "text/plain": [
       "<Figure size 400x300 with 1 Axes>"
      ]
     },
     "metadata": {},
     "output_type": "display_data"
    }
   ],
   "source": [
    "\n",
    "plt.figure(figsize=(4,3))\n",
    "sns.barplot(data=df,x='pclass',hue='Gender',y='fare',estimator='sum')\n",
    "plt.title(\"total_fare of each pclass,gender\")\n",
    "plt.show()"
   ]
  },
  {
   "cell_type": "markdown",
   "id": "d0b24112",
   "metadata": {},
   "source": [
    "8) Plot the avearge_fare for each pclass"
   ]
  },
  {
   "cell_type": "code",
   "execution_count": 124,
   "id": "9e86b6df",
   "metadata": {},
   "outputs": [
    {
     "data": {
      "image/png": "[encoded data removed]",
      "text/plain": [
       "<Figure size 400x300 with 1 Axes>"
      ]
     },
     "metadata": {},
     "output_type": "display_data"
    }
   ],
   "source": [
    "plt.figure(figsize=(4,3))\n",
    "sns.barplot(data=df,x='pclass',y='fare',estimator='mean',errorbar=None)\n",
    "plt.show()"
   ]
  },
  {
   "cell_type": "markdown",
   "id": "25df8560",
   "metadata": {},
   "source": [
    "9) Plot the survival rate in each pclass"
   ]
  },
  {
   "cell_type": "code",
   "execution_count": 125,
   "id": "54e5d9fd",
   "metadata": {},
   "outputs": [
    {
     "data": {
      "image/png": "[encoded data removed]",
      "text/plain": [
       "<Figure size 400x300 with 1 Axes>"
      ]
     },
     "metadata": {},
     "output_type": "display_data"
    }
   ],
   "source": [
    "plt.figure(figsize=(4,3))\n",
    "sns.barplot(data=df,x='pclass',y='survived',errorbar=None)\n",
    "plt.show()"
   ]
  },
  {
   "cell_type": "markdown",
   "id": "340576d2",
   "metadata": {},
   "source": [
    "10) Apply scatterplot for fare and age"
   ]
  },
  {
   "cell_type": "code",
   "execution_count": 126,
   "id": "e4a1f2db",
   "metadata": {},
   "outputs": [
    {
     "data": {
      "image/png": "[encoded data removed]",
      "text/plain": [
       "<Figure size 400x300 with 1 Axes>"
      ]
     },
     "metadata": {},
     "output_type": "display_data"
    }
   ],
   "source": [
    "plt.figure(figsize=(4,3))\n",
    "sns.scatterplot(data=df,x='age',y='fare')\n",
    "plt.show()"
   ]
  },
  {
   "cell_type": "markdown",
   "id": "a8523d14",
   "metadata": {},
   "source": [
    "11) Detect the outliers (i)age  (ii)fare"
   ]
  },
  {
   "cell_type": "code",
   "execution_count": 127,
   "id": "e863ad7b",
   "metadata": {},
   "outputs": [
    {
     "data": {
      "image/png": "[encoded data removed]",
      "text/plain": [
       "<Figure size 600x300 with 1 Axes>"
      ]
     },
     "metadata": {},
     "output_type": "display_data"
    }
   ],
   "source": [
    "plt.figure(figsize=(6,3))\n",
    "sns.boxplot(data=df,x='age')\n",
    "plt.show()"
   ]
  },
  {
   "cell_type": "code",
   "execution_count": 144,
   "id": "bf8442ed",
   "metadata": {},
   "outputs": [
    {
     "data": {
      "image/png": "[encoded data removed]",
      "text/plain": [
       "<Figure size 600x300 with 1 Axes>"
      ]
     },
     "metadata": {},
     "output_type": "display_data"
    }
   ],
   "source": [
    "plt.figure(figsize=(6,3))\n",
    "sns.boxplot(data=df,x='fare')\n",
    "plt.show()"
   ]
  },
  {
   "cell_type": "markdown",
   "id": "10cc2d7a",
   "metadata": {},
   "source": [
    "12) Provide heatmap for numerical columns"
   ]
  },
  {
   "cell_type": "code",
   "execution_count": 129,
   "id": "08140306",
   "metadata": {},
   "outputs": [
    {
     "data": {
      "text/html": [
       "<div>\n",
       "<style scoped>\n",
       "    .dataframe tbody tr th:only-of-type {\n",
       "        vertical-align: middle;\n",
       "    }\n",
       "\n",
       "    .dataframe tbody tr th {\n",
       "        vertical-align: top;\n",
       "    }\n",
       "\n",
       "    .dataframe thead th {\n",
       "        text-align: right;\n",
       "    }\n",
       "</style>\n",
       "<table border=\"1\" class=\"dataframe\">\n",
       "  <thead>\n",
       "    <tr style=\"text-align: right;\">\n",
       "      <th></th>\n",
       "      <th>age</th>\n",
       "      <th>Family_count</th>\n",
       "      <th>pclass</th>\n",
       "      <th>fare</th>\n",
       "      <th>survived</th>\n",
       "    </tr>\n",
       "  </thead>\n",
       "  <tbody>\n",
       "    <tr>\n",
       "      <th>age</th>\n",
       "      <td>1.000000</td>\n",
       "      <td>-0.193742</td>\n",
       "      <td>-0.377908</td>\n",
       "      <td>0.178180</td>\n",
       "      <td>-0.043817</td>\n",
       "    </tr>\n",
       "    <tr>\n",
       "      <th>Family_count</th>\n",
       "      <td>-0.193742</td>\n",
       "      <td>1.000000</td>\n",
       "      <td>0.050027</td>\n",
       "      <td>0.226613</td>\n",
       "      <td>0.026876</td>\n",
       "    </tr>\n",
       "    <tr>\n",
       "      <th>pclass</th>\n",
       "      <td>-0.377908</td>\n",
       "      <td>0.050027</td>\n",
       "      <td>1.000000</td>\n",
       "      <td>-0.558681</td>\n",
       "      <td>-0.312469</td>\n",
       "    </tr>\n",
       "    <tr>\n",
       "      <th>fare</th>\n",
       "      <td>0.178180</td>\n",
       "      <td>0.226613</td>\n",
       "      <td>-0.558681</td>\n",
       "      <td>1.000000</td>\n",
       "      <td>0.244414</td>\n",
       "    </tr>\n",
       "    <tr>\n",
       "      <th>survived</th>\n",
       "      <td>-0.043817</td>\n",
       "      <td>0.026876</td>\n",
       "      <td>-0.312469</td>\n",
       "      <td>0.244414</td>\n",
       "      <td>1.000000</td>\n",
       "    </tr>\n",
       "  </tbody>\n",
       "</table>\n",
       "</div>"
      ],
      "text/plain": [
       "                   age  Family_count    pclass      fare  survived\n",
       "age           1.000000     -0.193742 -0.377908  0.178180 -0.043817\n",
       "Family_count -0.193742      1.000000  0.050027  0.226613  0.026876\n",
       "pclass       -0.377908      0.050027  1.000000 -0.558681 -0.312469\n",
       "fare          0.178180      0.226613 -0.558681  1.000000  0.244414\n",
       "survived     -0.043817      0.026876 -0.312469  0.244414  1.000000"
      ]
     },
     "execution_count": 129,
     "metadata": {},
     "output_type": "execute_result"
    }
   ],
   "source": [
    "g=df.corr(numeric_only=True)\n",
    "g"
   ]
  },
  {
   "cell_type": "code",
   "execution_count": 130,
   "id": "63504941",
   "metadata": {},
   "outputs": [
    {
     "data": {
      "image/png": "[encoded data removed]",
      "text/plain": [
       "<Figure size 600x300 with 2 Axes>"
      ]
     },
     "metadata": {},
     "output_type": "display_data"
    }
   ],
   "source": [
    "plt.figure(figsize=(6,3))\n",
    "sns.heatmap(g)\n",
    "plt.show()"
   ]
  },
  {
   "cell_type": "code",
   "execution_count": 146,
   "id": "2ef88d15",
   "metadata": {},
   "outputs": [
    {
     "data": {
      "image/png": "[encoded data removed]",
      "text/plain": [
       "<Figure size 600x300 with 2 Axes>"
      ]
     },
     "metadata": {},
     "output_type": "display_data"
    }
   ],
   "source": [
    "fg=sns.FacetGrid(df,col='Gender')\n",
    "fg.map_dataframe(sns.barplot,'pclass','fare','survived',palette='coolwarm',errorbar=None,hue_order=[0,1])\n",
    "plt.legend()\n",
    "plt.show()"
   ]
  }
 ],
 "metadata": {
  "kernelspec": {
   "display_name": "Python 3",
   "language": "python",
   "name": "python3"
  },
  "language_info": {
   "codemirror_mode": {
    "name": "ipython",
    "version": 3
   },
   "file_extension": ".py",
   "mimetype": "text/x-python",
   "name": "python",
   "nbconvert_exporter": "python",
   "pygments_lexer": "ipython3",
   "version": "3.13.3"
  }
 },
 "nbformat": 4,
 "nbformat_minor": 5
}
